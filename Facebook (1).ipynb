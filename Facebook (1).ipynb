{
 "cells": [
  {
   "cell_type": "code",
   "execution_count": 2,
   "id": "ec66c7e8",
   "metadata": {
    "tags": []
   },
   "outputs": [
    {
     "data": {
      "text/plain": [
       "<!DOCTYPE html>\n",
       "<html class=\"no_js\" id=\"facebook\" lang=\"zh-Hant\">\n",
       "<head><meta charset=\"utf-8\"/><meta content=\"default\" id=\"meta_referrer\" name=\"referrer\"/><script nonce=\"cieshB4q\">function envFlush(a){function b(b){for(var c in a)b[c]=a[c]}window.requireLazy?window.requireLazy([\"Env\"],b):(window.Env=window.Env||{},b(window.Env))}envFlush({\"useTrustedTypes\":false,\"isTrustedTypesReportOnly\":false,\"ajaxpipe_token\":\"AXgMBOyBqo_B1a6xKsI\",\"remove_heartbeat\":false,\"stack_trace_limit\":30,\"timesliceBufferSize\":5000,\"show_invariant_decoder\":false,\"compat_iframe_token\":\"AQ4eCiWlq-nYBFFFWFg\",\"isCQuick\":false});</script><script nonce=\"cieshB4q\">(function(a){function b(b){if(!window.openDatabase)return;b.I_AM_INCOGNITO_AND_I_REALLY_NEED_WEBSQL=function(a,b,c,d){return window.openDatabase(a,b,c,d)};window.openDatabase=function(){throw new Error()}}b(a)})(this);</script><style nonce=\"cieshB4q\"></style><script nonce=\"cieshB4q\">__DEV__=0;</script><noscript><meta content=\"0; URL=/?_fb_noscript=1\" http-equiv=\"refresh\"/></noscript><link crossorigin=\"use-credentials\" href=\"/data/manifest/\" id=\"MANIFEST_LINK\" rel=\"manifest\"/><title id=\"pageTitle\">Facebook - 登入或註冊</title><meta content=\"Facebook\" property=\"og:site_name\"/><meta content=\"https://www.facebook.com/\" property=\"og:url\"/><meta content=\"https://www.facebook.com/images/fb_icon_325x325.png\" property=\"og:image\"/><meta content=\"zh_TW\" property=\"og:locale\"/><link href=\"https://m.facebook.com/\" media=\"only screen and (max-width: 640px)\" rel=\"alternate\"/><link href=\"https://m.facebook.com/\" media=\"handheld\" rel=\"alternate\"/><meta content=\"登入 Facebook 即可開始和親朋好友及認識的人分享聯繫。\" name=\"description\"/><link href=\"https://www.facebook.com/\" rel=\"canonical\"/><link href=\"https://static.xx.fbcdn.net/rsrc.php/yv/r/B8BxsscfVBr.ico\" rel=\"icon\"/><link data-bootloader-hash=\"5ai6w4/\" href=\"https://static.xx.fbcdn.net/rsrc.php/v3/y0/l/1,cross/Oui98GyjX45.css?_nc_x=Ij3Wp8lg5Kz\" rel=\"stylesheet\" type=\"text/css\"/>\n",
       "<link data-bootloader-hash=\"ECmA6zn\" href=\"https://static.xx.fbcdn.net/rsrc.php/v3/yP/l/1,cross/UiF6KvaaDMc.css?_nc_x=Ij3Wp8lg5Kz\" rel=\"stylesheet\" type=\"text/css\"/>\n",
       "<link data-bootloader-hash=\"GrqIbBd\" href=\"https://static.xx.fbcdn.net/rsrc.php/v3/yy/l/1,cross/piXcg3ZJdR_.css?_nc_x=Ij3Wp8lg5Kz\" rel=\"stylesheet\" type=\"text/css\"/>\n",
       "<link data-bootloader-hash=\"+U4Ilr9\" href=\"https://static.xx.fbcdn.net/rsrc.php/v3/yC/l/1,cross/sE-LYoTFzMc.css?_nc_x=Ij3Wp8lg5Kz\" rel=\"stylesheet\" type=\"text/css\"/>\n",
       "<script data-bootloader-hash=\"T+tuuWA\" nonce=\"cieshB4q\" src=\"https://static.xx.fbcdn.net/rsrc.php/v3/ym/r/zD1vhAMtj9g.js?_nc_x=Ij3Wp8lg5Kz\"></script>\n",
       "<script nonce=\"cieshB4q\">requireLazy([\"HasteSupportData\"],function(m){m.handle({\"clpData\":{\"1838142\":{\"r\":1,\"s\":1},\"4883\":{\"r\":1,\"s\":1},\"1814852\":{\"r\":1},\"1848815\":{\"r\":10000,\"s\":1}},\"gkxData\":{\"676837\":{\"result\":false,\"hash\":null},\"708253\":{\"result\":false,\"hash\":null},\"1167394\":{\"result\":false,\"hash\":null},\"1073500\":{\"result\":false,\"hash\":null},\"1224637\":{\"result\":false,\"hash\":null},\"1263340\":{\"result\":false,\"hash\":null},\"1857581\":{\"result\":false,\"hash\":null}},\"qexData\":{\"662\":{\"r\":null}}})});requireLazy([\"TimeSliceImpl\",\"ServerJS\"],function(TimeSlice,ServerJS){(new ServerJS()).handle({\"define\":[[\"ServerNonce\",[],{\"ServerNonce\":\"Il5d1ujwRf5CUS0fZ4FnaR\"},141],[\"KSConfig\",[],{\"killed\":{\"__set\":[\"WORKPLACE_DISPLAY_TEXT_EVIDENCE_REPORTING\",\"BUSINESS_GRAPH_SETTING_APP_ASSIGNED_USERS_NEW_API\",\"BUSINESS_GRAPH_SETTING_BU_ASSIGNED_USERS_NEW_API\",\"BUSINESS_GRAPH_SETTING_ESG_ASSIGNED_USERS_NEW_API\",\"BUSINESS_GRAPH_SETTING_PRODUCT_CATALOG_ASSIGNED_USERS_NEW_API\",\"BUSINESS_GRAPH_SETTING_SESG_ASSIGNED_USERS_NEW_API\",\"BUSINESS_GRAPH_SETTING_WABA_ASSIGNED_USERS_NEW_API\",\"FORCE_FETCH_BOOSTED_COMPONENT_AFTER_ADS_CREATION\",\"ADS_STORE_VISITS_METRICS_DEPRECATION\",\"AD_DRAFT_ENABLE_SYNCRHONOUS_FRAGMENT_VALIDATION\",\"SEPARATE_MESSAGING_COMACTIVITY_PAGE_PERMS\",\"POCKET_MONSTERS_CREATE\",\"POCKET_MONSTERS_DELETE\",\"WORKPLACE_PLATFORM_SECURE_APPS_MAILBOXES\",\"POCKET_MONSTERS_UPDATE_NAME\",\"IC_DISABLE_MERGE_TOOL_FEED_CHECK_FOR_REPLACE_SCHEDULE\",\"ADS_EPD_IMPACTED_ADVERTISER_MIGRATE_XCONTROLLER\",\"TPA_SRT_TRANSLATION\",\"WORKROOMS_REQUEST_TAGGING_TAG_NO_INIT_BY_VC_GALAXY\"]},\"ko\":{\"__set\":[\"8NAceEy9JZo\",\"4j36SVzvP3w\",\"4NSq3ZC4ScE\",\"53gCxKq281G\",\"3yzzwBY7Npj\",\"1onzIv0jH6H\",\"8PlKuowafe8\",\"4SIH2GRVX5W\",\"amKHb4Cw4WI\",\"8rDvN9vWdAK\",\"5BdzWGmfvrA\",\"acrJTh9WGdp\",\"1oOE64fL4wO\",\"5XCz1h9Iaw3\",\"7r6mSP7ofr2\",\"6DGPLrRdyts\",\"aWxCyi1sEC7\",\"3sKizTQ6byg\",\"6XsXQ2qHw8y\"]}},2580],[\"InitialCookieConsent\",[],{\"deferCookies\":false,\"initialConsent\":[1,2],\"noCookies\":false,\"shouldShowCookieBanner\":false,\"shouldWaitForDeferredDatrCookie\":false},4328],[\"CookieConsentIFrameConfig\",[],{\"consent_param\":\"FQAREhISAA==.ARYfxxq1kulxqXyxs0FBZ5ciPnouFPuKzdnPFCaBBf_mfpUt\",\"allowlisted_iframes\":[]},5540],[\"ServerTimeData\",[],{\"serverTime\":1702340230769,\"timeOfRequestStart\":1702340230718.3,\"timeOfResponseStart\":1702340230718.3},5943],[\"URLFragmentPreludeConfig\",[],{\"hashtagRedirect\":true,\"fragBlacklist\":[\"nonce\",\"access_token\",\"oauth_token\",\"xs\",\"checkpoint_data\",\"code\"]},137],[\"CometPersistQueryParams\",[],{\"relative\":{},\"domain\":{}},6231],[\"CookieDomain\",[],{\"domain\":\"facebook.com\"},6421],[\"CurrentAdAccountInitialData\",[],{\"AD_ACCOUNT_ID\":null},6828],[\"BootloaderConfig\",[],{\"deferBootloads\":false,\"jsRetries\":[200,500],\"jsRetryAbortNum\":2,\"jsRetryAbortTime\":5,\"silentDups\":false,\"timeout\":60000,\"tieredLoadingFromTier\":100,\"hypStep4\":false,\"phdOn\":false,\"btCutoffIndex\":2156,\"fastPathForAlreadyRequired\":true,\"earlyRequireLazy\":false,\"enableTimeoutLoggingForNonComet\":false,\"deferLongTailManifest\":true,\"lazySoT\":false,\"translationRetries\":[200,500],\"translationRetryAbortNum\":3,\"translationRetryAbortTime\":50},329],[\"CSSLoaderConfig\",[],{\"timeout\":5000,\"modulePrefix\":\"BLCSS:\",\"forcePollForBootloader\":true,\"loadEventSupported\":true},619],[\"CookieCoreConfig\",[],{\"c_user\":{\"t\":31536000},\"cppo\":{\"t\":86400},\"dpr\":{\"t\":604800},\"fbl_ci\":{\"t\":31536000},\"fbl_cs\":{\"t\":31536000},\"fbl_st\":{\"t\":31536000},\"i_user\":{\"t\":31536000},\"locale\":{\"t\":604800},\"m_ls\":{\"t\":34560000},\"m_pixel_ratio\":{\"t\":604800},\"noscript\":{},\"presence\":{\"t\":2592000},\"sfau\":{},\"usida\":{},\"vpd\":{\"t\":5184000},\"wd\":{\"t\":604800},\"wl_cbv\":{\"t\":7776000},\"x-referer\":{},\"x-src\":{\"t\":1}},2104],[\"CurrentCommunityInitialData\",[],{},490],[\"CurrentUserInitialData\",[],{\"ACCOUNT_ID\":\"0\",\"USER_ID\":\"0\",\"NAME\":\"\",\"SHORT_NAME\":null,\"IS_BUSINESS_PERSON_ACCOUNT\":false,\"HAS_SECONDARY_BUSINESS_PERSON\":false,\"IS_FACEBOOK_WORK_ACCOUNT\":false,\"IS_MESSENGER_ONLY_USER\":false,\"IS_DEACTIVATED_ALLOWED_ON_MESSENGER\":false,\"IS_MESSENGER_CALL_GUEST_USER\":false,\"IS_WORK_MESSENGER_CALL_GUEST_USER\":false,\"IS_WORKROOMS_USER\":false,\"APP_ID\":\"256281040558\",\"IS_BUSINESS_DOMAIN\":false},270],[\"DTSGInitialData\",[],{},258],[\"ISB\",[],{},330],[\"LSD\",[],{\"token\":\"AVqNWjVCLK8\"},323],[\"SiteData\",[],{\"server_revision\":1010343418,\"client_revision\":1010343418,\"tier\":\"\",\"push_phase\":\"C3\",\"pkg_cohort\":\"BP:DEFAULT\",\"haste_session\":\"19703.BP:DEFAULT.2.0..0.0\",\"pr\":1,\"haste_site\":\"www\",\"manifest_base_uri\":\"https:\\/\\/static.xx.fbcdn.net\",\"manifest_origin\":null,\"manifest_version_prefix\":null,\"be_one_ahead\":false,\"is_rtl\":false,\"is_comet\":false,\"is_experimental_tier\":false,\"is_jit_warmed_up\":true,\"hsi\":\"7311495615740928549\",\"semr_host_bucket\":\"15\",\"bl_hash_version\":2,\"skip_rd_bl\":true,\"comet_env\":0,\"wbloks_env\":false,\"ef_page\":null,\"compose_bootloads\":false,\"spin\":4,\"__spin_r\":1010343418,\"__spin_b\":\"trunk\",\"__spin_t\":1702340230,\"vip\":\"31.13.87.36\"},317],[\"SprinkleConfig\",[],{\"param_name\":\"jazoest\",\"version\":2,\"should_randomize\":false},2111],[\"UserAgentData\",[],{\"browserArchitecture\":\"32\",\"browserFullVersion\":null,\"browserMinorVersion\":null,\"browserName\":\"Unknown\",\"browserVersion\":null,\"deviceName\":\"Unknown\",\"engineName\":\"WebKit\",\"engineVersion\":\"605.1.15\",\"platformArchitecture\":\"32\",\"platformName\":\"Mac OS X\",\"platformVersion\":\"11.2\",\"platformFullVersion\":\"11.2.3\"},527],[\"PromiseUsePolyfillSetImmediateGK\",[],{\"www_always_use_polyfill_setimmediate\":false},2190],[\"CurrentBusinessUser\",[],{\"business_id\":null,\"business_persona_id\":null,\"business_role\":null,\"business_user_id\":null,\"businessAccountName\":null,\"email\":null,\"first_name\":null,\"ip_permission\":null,\"isBusinessPerson\":false,\"isFacebookWorkAccount\":false,\"isInstagramBusinessPerson\":false,\"isEnterpriseBusiness\":false,\"shouldHideComponentsByUnsupportedFirstPartyTools\":false,\"shouldShowAccountSwitchComponents\":false,\"isUserOptInAccountSwitchInfraUpgrade\":false,\"business_profile_pic_url\":null,\"enterprise_profile_pic_url\":null,\"isTwoFacNewFlow\":false,\"last_name\":null,\"personal_user_id\":\"0\",\"is_ads_feature_limited\":null,\"is_business_banhammered\":null,\"expiry_time\":null,\"has_verified_email\":null,\"permitted_business_account_task_ids\":[]},2654],[\"JSErrorLoggingConfig\",[],{\"appId\":256281040558,\"extra\":[],\"reportInterval\":50,\"sampleWeight\":null,\"sampleWeightKey\":\"__jssesw\",\"projectBlocklist\":[]},2776],[\"DataStoreConfig\",[],{\"expandoKey\":\"__FB_STORE\",\"useExpando\":true},2915],[\"CookieCoreLoggingConfig\",[],{\"maximumIgnorableStallMs\":16.67,\"sampleRate\":9.7e-5,\"sampleRateClassic\":1.0e-10,\"sampleRateFastStale\":1.0e-8},3401],[\"ImmediateImplementationExperiments\",[],{\"prefer_message_channel\":true},3419],[\"DTSGInitData\",[],{\"token\":\"\",\"async_get_token\":\"\"},3515],[\"UriNeedRawQuerySVConfig\",[],{\"uris\":[\"dms.netmng.com\",\"doubleclick.net\",\"r.msn.com\",\"watchit.sky.com\",\"graphite.instagram.com\",\"www.kfc.co.th\",\"learn.pantheon.io\",\"www.landmarkshops.in\",\"www.ncl.com\",\"s0.wp.com\",\"www.tatacliq.com\",\"bs.serving-sys.com\",\"kohls.com\",\"lazada.co.th\",\"xg4ken.com\",\"technopark.ru\",\"officedepot.com.mx\",\"bestbuy.com.mx\",\"booking.com\",\"nibio.no\",\"myworkdayjobs.com\"]},3871],[\"WebConnectionClassServerGuess\",[],{\"connectionClass\":\"EXCELLENT\"},4705],[\"BootloaderEndpointConfig\",[],{\"debugNoBatching\":false,\"maxBatchSize\":-1,\"endpointURI\":\"https:\\/\\/www.facebook.com\\/ajax\\/bootloader-endpoint\\/\"},5094],[\"BigPipeExperiments\",[],{\"link_images_to_pagelets\":false,\"enable_bigpipe_plugins\":false},907],[\"IntlVariationHoldout\",[],{\"disable_variation\":false},6533],[\"IntlNumberTypeProps\",[\"IntlCLDRNumberType01\"],{\"module\":{\"__m\":\"IntlCLDRNumberType01\"}},7027],[\"AsyncRequestConfig\",[],{\"retryOnNetworkError\":\"1\",\"useFetchStreamAjaxPipeTransport\":false},328],[\"IntlPhonologicalRules\",[],{\"meta\":{},\"patterns\":{}},1496],[\"IntlViewerContext\",[],{\"GENDER\":3,\"regionalLocale\":null},772],[\"NumberFormatConfig\",[],{\"decimalSeparator\":\".\",\"numberDelimiter\":\",\",\"minDigitsForThousandsSeparator\":4,\"standardDecimalPatternInfo\":{\"primaryGroupSize\":3,\"secondaryGroupSize\":3},\"numberingSystemData\":null},54],[\"SessionNameConfig\",[],{\"seed\":\"2N4J\"},757],[\"ZeroCategoryHeader\",[],{},1127],[\"ZeroRewriteRules\",[],{\"rewrite_rules\":{},\"whitelist\":{\"\\/hr\\/r\":1,\"\\/hr\\/p\":1,\"\\/zero\\/unsupported_browser\\/\":1,\"\\/zero\\/policy\\/optin\":1,\"\\/zero\\/optin\\/write\\/\":1,\"\\/zero\\/optin\\/legal\\/\":1,\"\\/zero\\/optin\\/free\\/\":1,\"\\/about\\/privacy\\/\":1,\"\\/about\\/privacy\\/update\\/\":1,\"\\/privacy\\/explanation\\/\":1,\"\\/zero\\/toggle\\/welcome\\/\":1,\"\\/zero\\/toggle\\/nux\\/\":1,\"\\/zero\\/toggle\\/settings\\/\":1,\"\\/fup\\/interstitial\\/\":1,\"\\/work\\/landing\":1,\"\\/work\\/login\\/\":1,\"\\/work\\/email\\/\":1,\"\\/ai.php\":1,\"\\/js_dialog_resources\\/dialog_descriptions_android.json\":0,\"\\/connect\\/jsdialog\\/MPlatformAppInvitesJSDialog\\/\":0,\"\\/connect\\/jsdialog\\/MPlatformOAuthShimJSDialog\\/\":0,\"\\/connect\\/jsdialog\\/MPlatformLikeJSDialog\\/\":0,\"\\/qp\\/interstitial\\/\":1,\"\\/qp\\/action\\/redirect\\/\":1,\"\\/qp\\/action\\/close\\/\":1,\"\\/zero\\/support\\/ineligible\\/\":1,\"\\/zero_balance_redirect\\/\":1,\"\\/zero_balance_redirect\":1,\"\\/zero_balance_redirect\\/l\\/\":1,\"\\/l.php\":1,\"\\/lsr.php\":1,\"\\/ajax\\/dtsg\\/\":1,\"\\/checkpoint\\/block\\/\":1,\"\\/exitdsite\":1,\"\\/zero\\/balance\\/pixel\\/\":1,\"\\/zero\\/balance\\/\":1,\"\\/zero\\/balance\\/carrier_landing\\/\":1,\"\\/zero\\/flex\\/logging\\/\":1,\"\\/tr\":1,\"\\/tr\\/\":1,\"\\/sem_campaigns\\/sem_pixel_test\\/\":1,\"\\/bookmarks\\/flyout\\/body\\/\":1,\"\\/zero\\/subno\\/\":1,\"\\/confirmemail.php\":1,\"\\/policies\\/\":1,\"\\/mobile\\/internetdotorg\\/classifier\\/\":1,\"\\/zero\\/dogfooding\":1,\"\\/xti.php\":1,\"\\/zero\\/fblite\\/config\\/\":1,\"\\/hr\\/zsh\\/wc\\/\":1,\"\\/ajax\\/bootloader-endpoint\\/\":1,\"\\/mobile\\/zero\\/carrier_page\\/\":1,\"\\/mobile\\/zero\\/carrier_page\\/education_page\\/\":1,\"\\/mobile\\/zero\\/carrier_page\\/feature_switch\\/\":1,\"\\/mobile\\/zero\\/carrier_page\\/settings_page\\/\":1,\"\\/aloha_check_build\":1,\"\\/upsell\\/zbd\\/softnudge\\/\":1,\"\\/mobile\\/zero\\/af_transition\\/\":1,\"\\/mobile\\/zero\\/af_transition\\/action\\/\":1,\"\\/mobile\\/zero\\/freemium\\/\":1,\"\\/mobile\\/zero\\/freemium\\/redirect\\/\":1,\"\\/mobile\\/zero\\/freemium\\/zero_fup\\/\":1,\"\\/privacy\\/policy\\/\":1,\"\\/privacy\\/center\\/\":1,\"\\/data\\/manifest\\/\":1,\"\\/4oh4.php\":1,\"\\/autologin.php\":1,\"\\/birthday_help.php\":1,\"\\/checkpoint\\/\":1,\"\\/contact-importer\\/\":1,\"\\/cr.php\":1,\"\\/legal\\/terms\\/\":1,\"\\/login.php\":1,\"\\/login\\/\":1,\"\\/mobile\\/account\\/\":1,\"\\/n\\/\":1,\"\\/remote_test_device\\/\":1,\"\\/upsell\\/buy\\/\":1,\"\\/upsell\\/buyconfirm\\/\":1,\"\\/upsell\\/buyresult\\/\":1,\"\\/upsell\\/promos\\/\":1,\"\\/upsell\\/continue\\/\":1,\"\\/upsell\\/h\\/promos\\/\":1,\"\\/upsell\\/loan\\/learnmore\\/\":1,\"\\/upsell\\/purchase\\/\":1,\"\\/upsell\\/promos\\/upgrade\\/\":1,\"\\/upsell\\/buy_redirect\\/\":1,\"\\/upsell\\/loan\\/buyconfirm\\/\":1,\"\\/upsell\\/loan\\/buy\\/\":1,\"\\/upsell\\/sms\\/\":1,\"\\/wap\\/a\\/channel\\/reconnect.php\":1,\"\\/wap\\/a\\/nux\\/wizard\\/nav.php\":1,\"\\/wap\\/appreg.php\":1,\"\\/wap\\/birthday_help.php\":1,\"\\/wap\\/c.php\":1,\"\\/wap\\/confirmemail.php\":1,\"\\/wap\\/cr.php\":1,\"\\/wap\\/login.php\":1,\"\\/wap\\/r.php\":1,\"\\/zero\\/datapolicy\":1,\"\\/a\\/timezone.php\":1,\"\\/a\\/bz\":1,\"\\/bz\\/reliability\":1,\"\\/r.php\":1,\"\\/mr\\/\":1,\"\\/reg\\/\":1,\"\\/registration\\/log\\/\":1,\"\\/terms\\/\":1,\"\\/f123\\/\":1,\"\\/expert\\/\":1,\"\\/experts\\/\":1,\"\\/terms\\/index.php\":1,\"\\/terms.php\":1,\"\\/srr\\/\":1,\"\\/msite\\/redirect\\/\":1,\"\\/fbs\\/pixel\\/\":1,\"\\/contactpoint\\/preconfirmation\\/\":1,\"\\/contactpoint\\/cliff\\/\":1,\"\\/contactpoint\\/confirm\\/submit\\/\":1,\"\\/contactpoint\\/confirmed\\/\":1,\"\\/contactpoint\\/login\\/\":1,\"\\/preconfirmation\\/contactpoint_change\\/\":1,\"\\/help\\/contact\\/\":1,\"\\/survey\\/\":1,\"\\/upsell\\/loyaltytopup\\/accept\\/\":1,\"\\/settings\\/\":1,\"\\/lite\\/\":1,\"\\/zero_status_update\\/\":1,\"\\/operator_store\\/\":1,\"\\/upsell\\/\":1,\"\\/wifiauth\\/login\\/\":1}},1478],[\"WebDriverConfig\",[],{\"isTestRunning\":false,\"isJestE2ETestRun\":false,\"isXRequestConfigEnabled\":false,\"auxiliaryServiceInfo\":{},\"testPath\":null,\"originHost\":null},5332],[\"FbtQTOverrides\",[],{\"overrides\":{}},551],[\"AnalyticsCoreData\",[],{\"device_id\":\"$^|AcZz5ZQUH8VvOnNPA2zl_rKjMu_rJXkz21c-1mml0qqhjFNNAzmdTSDfX5JX2uP2w2gyW23DbB7hCsBJ2i9LFlXLD3kD|fd.Acb0F_lzZl4o512yifszXucxdb1oyqf4JV5h5IQBssEr_2a-RyGv5OYPvytF3Zjr3FJ4KNeWWKvBqr4qAsTLnF3P\",\"app_id\":\"256281040558\",\"enable_bladerunner\":false,\"enable_ack\":true,\"push_phase\":\"C3\",\"enable_observer\":false,\"enable_cmcd_observer\":false,\"enable_dataloss_timer\":false,\"enable_fallback_for_br\":true,\"queue_activation_experiment\":false,\"max_delay_br_queue\":60000,\"max_delay_br_queue_immediate\":3,\"max_delay_br_init_not_complete\":3000,\"consents\":{},\"app_universe\":1,\"br_stateful_migration_exp\":true,\"br_stateful_migration_on\":true,\"enable_non_fb_br_stateless_by_default\":false,\"use_falco_as_mutex_key\":false},5237],[\"cr:1126\",[\"TimeSliceImpl\"],{\"__rc\":[\"TimeSliceImpl\",null]},-1],[\"cr:6640\",[\"PromiseImpl\"],{\"__rc\":[\"PromiseImpl\",null]},-1],[\"cr:7386\",[\"clearTimeoutWWW\"],{\"__rc\":[\"clearTimeoutWWW\",null]},-1],[\"cr:7390\",[\"setTimeoutWWW\"],{\"__rc\":[\"setTimeoutWWW\",null]},-1],[\"cr:925100\",[\"RunBlue\"],{\"__rc\":[\"RunBlue\",null]},-1],[\"cr:7385\",[\"clearIntervalWWW\"],{\"__rc\":[\"clearIntervalWWW\",null]},-1],[\"cr:7389\",[\"setIntervalAcrossTransitionsWWW\"],{\"__rc\":[\"setIntervalAcrossTransitionsWWW\",null]},-1],[\"cr:7391\",[\"setTimeoutAcrossTransitionsWWW\"],{\"__rc\":[\"setTimeoutAcrossTransitionsWWW\",null]},-1],[\"cr:7936\",[\"BlueCompatRouter\"],{\"__rc\":[\"BlueCompatRouter\",null]},-1],[\"cr:696703\",[],{\"__rc\":[null,null]},-1],[\"cr:708886\",[\"EventProfilerImpl\"],{\"__rc\":[\"EventProfilerImpl\",null]},-1],[\"cr:6669\",[\"DataStore\"],{\"__rc\":[\"DataStore\",null]},-1],[\"cr:7740\",[\"RunBlue\"],{\"__rc\":[\"RunBlue\",null]},-1],[\"cr:7730\",[\"getFbtResult\"],{\"__rc\":[\"getFbtResult\",null]},-1],[\"cr:1094907\",[],{\"__rc\":[null,null]},-1],[\"CurrentEnvironment\",[],{\"facebookdotcom\":true,\"messengerdotcom\":false,\"workplacedotcom\":false,\"instagramdotcom\":false,\"workdotmetadotcom\":false,\"horizondotmetadotcom\":false},827],[\"CometAltpayJsSdkIframeAllowedDomains\",[],{\"allowed_domains\":[\"https:\\/\\/live.adyen.com\",\"https:\\/\\/integration-facebook.payu.in\",\"https:\\/\\/facebook.payulatam.com\",\"https:\\/\\/secure.payu.com\",\"https:\\/\\/facebook.dlocal.com\",\"https:\\/\\/buy2.boku.com\"]},4920],[\"EventConfig\",[],{\"sampling\":{\"bandwidth\":0,\"play\":0,\"playing\":0,\"progress\":0,\"pause\":0,\"ended\":0,\"seeked\":0,\"seeking\":0,\"waiting\":0,\"loadedmetadata\":0,\"canplay\":0,\"selectionchange\":0,\"change\":0,\"timeupdate\":0,\"adaptation\":0,\"focus\":0,\"blur\":0,\"load\":0,\"error\":0,\"message\":0,\"abort\":0,\"storage\":0,\"scroll\":200000,\"mousemove\":20000,\"mouseover\":10000,\"mouseout\":10000,\"mousewheel\":1,\"MSPointerMove\":10000,\"keydown\":0.1,\"click\":0.02,\"mouseup\":0.02,\"__100ms\":0.001,\"__default\":5000,\"__min\":100,\"__interactionDefault\":200,\"__eventDefault\":100000},\"page_sampling_boost\":1,\"interaction_regexes\":{},\"interaction_boost\":{},\"event_types\":{},\"manual_instrumentation\":false,\"profile_eager_execution\":false,\"disable_heuristic\":true,\"disable_event_profiler\":false},1726],[\"FbtResultGK\",[],{\"shouldReturnFbtResult\":true,\"inlineMode\":\"NO_INLINE\"},876],[\"cr:806696\",[\"clearTimeoutBlue\"],{\"__rc\":[\"clearTimeoutBlue\",null]},-1],[\"cr:807042\",[\"setTimeoutBlue\"],{\"__rc\":[\"setTimeoutBlue\",null]},-1],[\"cr:1003267\",[\"clearIntervalBlue\"],{\"__rc\":[\"clearIntervalBlue\",null]},-1],[\"cr:896462\",[\"setIntervalAcrossTransitionsBlue\"],{\"__rc\":[\"setIntervalAcrossTransitionsBlue\",null]},-1],[\"cr:986633\",[\"setTimeoutAcrossTransitionsBlue\"],{\"__rc\":[\"setTimeoutAcrossTransitionsBlue\",null]},-1],[\"cr:6799\",[\"EventProfilerAdsSessionProvider\"],{\"__rc\":[\"EventProfilerAdsSessionProvider\",null]},-1],[\"cr:1183579\",[\"InlineFbtResultImpl\"],{\"__rc\":[\"InlineFbtResultImpl\",null]},-1],[\"AdsInterfacesSessionConfig\",[],{},2393]],\"require\":[[\"markJSEnabled\"],[\"lowerDomain\"],[\"URLFragmentPrelude\"],[\"Primer\"],[\"BigPipe\"],[\"Bootloader\"],[\"TimeSlice\"],[\"AsyncRequest\"],[\"FbtLogging\"],[\"IntlQtEventFalcoEvent\"],[\"RequireDeferredReference\",\"unblock\",[],[[\"AsyncRequest\",\"FbtLogging\",\"IntlQtEventFalcoEvent\"],\"sd\"]],[\"RequireDeferredReference\",\"unblock\",[],[[\"AsyncRequest\",\"FbtLogging\",\"IntlQtEventFalcoEvent\"],\"css\"]]]});});</script></head><body class=\"fbIndex UIPage_LoggedOut _-kb sf _605a b_c3pyn-ahh webkit mac x1 Locale_zh_TW\" dir=\"ltr\"><script nonce=\"cieshB4q\" type=\"text/javascript\">requireLazy([\"bootstrapWebSession\"],function(j){j(1702340230)})</script><div class=\"_li\" id=\"u_0_1_ub\"><div class=\"uiContextualLayerParent\" id=\"globalContainer\"><div class=\"fb_content clearfix\" id=\"content\" role=\"main\"><div><div class=\"_8esj _95k9 _8esf _8opv _8f3m _8ilg _8icx _8op_ _95ka\"><div class=\"_8esk\"><div class=\"_8esl\"><div class=\"_8ice\"><img alt=\"Facebook\" class=\"fb_logo _8ilh img\" src=\"https://static.xx.fbcdn.net/rsrc.php/y1/r/4lCu2zih0ca.svg\"/></div><h2 class=\"_8eso\">Facebook，讓你和親朋好友保持聯繫，隨時分享生活中的每一刻。</h2></div><div class=\"_8esn\"><div class=\"_8iep _8icy _9ahz _9ah-\"><div class=\"_6luv _52jv\"><form action=\"/login/?privacy_mutation_token=eyJ0eXBlIjowLCJjcmVhdGlvbl90aW1lIjoxNzAyMzQwMjMwLCJjYWxsc2l0ZV9pZCI6MzgxMjI5MDc5NTc1OTQ2fQ%3D%3D\" class=\"_9vtf\" data-testid=\"royal_login_form\" id=\"u_0_2_xh\" method=\"post\" onsubmit=\"\"><input autocomplete=\"off\" name=\"jazoest\" type=\"hidden\" value=\"2895\"/><input autocomplete=\"off\" name=\"lsd\" type=\"hidden\" value=\"AVqNWjVCLK8\"/><div><div class=\"_6lux\"><input aria-label=\"電子郵件地址或手機號碼\" autofocus=\"1\" class=\"inputtext _55r1 _6luy\" data-testid=\"royal_email\" id=\"email\" name=\"email\" placeholder=\"電子郵件地址或手機號碼\" type=\"text\"/></div><div class=\"_6lux\"><div class=\"_6luy _55r1 _1kbt\" id=\"passContainer\"><input aria-label=\"密碼\" class=\"inputtext _55r1 _6luy _9npi\" data-testid=\"royal_pass\" id=\"pass\" name=\"pass\" placeholder=\"密碼\" type=\"password\"/><div class=\"_9ls7\" id=\"u_0_3_nH\"><a href=\"#\" role=\"button\"><div class=\"_9lsa\"><div class=\"_9lsb\" id=\"u_0_4_QS\"></div></div></a></div></div></div></div><input autocomplete=\"off\" name=\"login_source\" type=\"hidden\" value=\"comet_headerless_login\"/><input autocomplete=\"off\" name=\"next\" type=\"hidden\" value=\"\"/><div class=\"_6ltg\"><button class=\"_42ft _4jy0 _6lth _4jy6 _4jy1 selected _51sy\" data-testid=\"royal_login_button\" id=\"u_0_5_pn\" name=\"login\" type=\"submit\" value=\"1\">登入</button></div><div class=\"_6ltj\"><a href=\"https://www.facebook.com/recover/initiate/?privacy_mutation_token=eyJ0eXBlIjowLCJjcmVhdGlvbl90aW1lIjoxNzAyMzQwMjMwLCJjYWxsc2l0ZV9pZCI6MzgxMjI5MDc5NTc1OTQ2fQ%3D%3D&amp;ars=facebook_login\">忘記密碼？</a></div><div class=\"_8icz\"></div><div class=\"_6ltg\"><a ajaxify=\"/reg/spotlight/\" class=\"_42ft _4jy0 _6lti _4jy6 _4jy2 selected _51sy\" data-testid=\"open-registration-form-button\" href=\"#\" id=\"u_0_0_mi\" rel=\"async\" role=\"button\">建立新帳號</a></div></form></div><div class=\"_58mk\" id=\"reg_pages_msg\">為名人、品牌或商家<a class=\"_8esh\" href=\"/pages/create/?ref_type=registration_form\">建立粉絲專頁</a>。</div></div></div></div></div></div></div><div class=\"\"><div class=\"_95ke _8opy\"><div data-referrer=\"page_footer\" data-testid=\"page_footer\" id=\"pageFooter\"><ul class=\"uiList localeSelectorList _2pid _509- _4ki _6-h _6-j _6-i\" data-nocookies=\"1\"><li>中文(台灣)</li><li><a class=\"_sv4\" dir=\"ltr\" href=\"https://www.facebook.com/\" onclick='require(\"IntlUtils\").setCookieLocale(\"en_US\", \"zh_TW\", \"https:\\/\\/www.facebook.com\\/\", \"www_list_selector\", 0); return false;' title=\"English (US)\">English (US)</a></li><li><a class=\"_sv4\" dir=\"ltr\" href=\"https://vi-vn.facebook.com/\" onclick='require(\"IntlUtils\").setCookieLocale(\"vi_VN\", \"zh_TW\", \"https:\\/\\/vi-vn.facebook.com\\/\", \"www_list_selector\", 1); return false;' title=\"Vietnamese\">Tiếng Việt</a></li><li><a class=\"_sv4\" dir=\"ltr\" href=\"https://id-id.facebook.com/\" onclick='require(\"IntlUtils\").setCookieLocale(\"id_ID\", \"zh_TW\", \"https:\\/\\/id-id.facebook.com\\/\", \"www_list_selector\", 2); return false;' title=\"Indonesian\">Bahasa Indonesia</a></li><li><a class=\"_sv4\" dir=\"ltr\" href=\"https://th-th.facebook.com/\" onclick='require(\"IntlUtils\").setCookieLocale(\"th_TH\", \"zh_TW\", \"https:\\/\\/th-th.facebook.com\\/\", \"www_list_selector\", 3); return false;' title=\"Thai\">ภาษาไทย</a></li><li><a class=\"_sv4\" dir=\"ltr\" href=\"https://ja-jp.facebook.com/\" onclick='require(\"IntlUtils\").setCookieLocale(\"ja_JP\", \"zh_TW\", \"https:\\/\\/ja-jp.facebook.com\\/\", \"www_list_selector\", 4); return false;' title=\"Japanese\">日本語</a></li><li><a class=\"_sv4\" dir=\"ltr\" href=\"https://es-la.facebook.com/\" onclick='require(\"IntlUtils\").setCookieLocale(\"es_LA\", \"zh_TW\", \"https:\\/\\/es-la.facebook.com\\/\", \"www_list_selector\", 5); return false;' title=\"Spanish\">Español</a></li><li><a class=\"_sv4\" dir=\"ltr\" href=\"https://pt-br.facebook.com/\" onclick='require(\"IntlUtils\").setCookieLocale(\"pt_BR\", \"zh_TW\", \"https:\\/\\/pt-br.facebook.com\\/\", \"www_list_selector\", 6); return false;' title=\"Portuguese (Brazil)\">Português (Brasil)</a></li><li><a class=\"_sv4\" dir=\"ltr\" href=\"https://fr-fr.facebook.com/\" onclick='require(\"IntlUtils\").setCookieLocale(\"fr_FR\", \"zh_TW\", \"https:\\/\\/fr-fr.facebook.com\\/\", \"www_list_selector\", 7); return false;' title=\"French (France)\">Français (France)</a></li><li><a class=\"_sv4\" dir=\"ltr\" href=\"https://de-de.facebook.com/\" onclick='require(\"IntlUtils\").setCookieLocale(\"de_DE\", \"zh_TW\", \"https:\\/\\/de-de.facebook.com\\/\", \"www_list_selector\", 8); return false;' title=\"German\">Deutsch</a></li><li><a class=\"_sv4\" dir=\"ltr\" href=\"https://it-it.facebook.com/\" onclick='require(\"IntlUtils\").setCookieLocale(\"it_IT\", \"zh_TW\", \"https:\\/\\/it-it.facebook.com\\/\", \"www_list_selector\", 9); return false;' title=\"Italian\">Italiano</a></li><li><a ajaxify=\"/settings/language/language/?uri=https%3A%2F%2Fit-it.facebook.com%2F&amp;source=www_list_selector_more\" class=\"_42ft _4jy0 _517i _517h _51sy\" href=\"#\" rel=\"dialog\" role=\"button\" title=\"顯示更多語言\"><i class=\"img sp_EP9wX8qDDvu sx_0de3e6\"></i></a></li></ul><div id=\"contentCurve\"></div><div aria-label=\"Facebook 網站連結\" id=\"pageFooterChildren\" role=\"contentinfo\"><ul class=\"uiList pageFooterLinkList _509- _4ki _703 _6-i\"><li><a href=\"/reg/\" title=\"註冊 Facebook 帳號\">註冊</a></li><li><a href=\"/login/\" title=\"登入 Facebook\">登入</a></li><li><a href=\"https://messenger.com/\" title=\"查看 Messenger。\">Messenger</a></li><li><a href=\"/lite/\" title=\"Android 版 Facebook Lite。\">Facebook Lite</a></li><li><a href=\"https://www.facebook.com/watch/\" title=\"在「影片」頁籤瀏覽\">影片</a></li><li><a href=\"/places/\" title=\"查看 Facebook 的熱門地標。\">地標</a></li><li><a href=\"/games/\" title=\"來玩 Facebook 遊戲。\">遊戲</a></li><li><a href=\"/marketplace/\" title=\"在 Facebook Marketplace 買賣商品。\">Marketplace</a></li><li><a href=\"https://pay.facebook.com/\" target=\"_blank\" title=\"深入瞭解 Meta Pay\">Meta Pay</a></li><li><a href=\"https://www.meta.com/\" target=\"_blank\" title=\"查看 Meta\">Meta Store</a></li><li><a href=\"https://www.meta.com/quest/\" target=\"_blank\" title=\"深入瞭解 Meta Quest\">Meta Quest</a></li><li><a data-lynx-mode=\"hover\" href=\"https://l.facebook.com/l.php?u=https%3A%2F%2Fwww.instagram.com%2F&amp;h=AT2SXulgcdouNwkg6vaVuEaZvihjfum6RhYnnBtS6B5I7h9NBEZ-9S-Xcst8Drj-CQLfIrAaWNbhnbZO21dM2mdzax0NtR75JBIRwUMhLDeawTTM6x0Xy5cOxT95gVucaJN5mah7OJjQ7P9RGuFZymJFhg\" rel=\"nofollow\" target=\"_blank\" title=\"查看 Instagram\">Instagram</a></li><li><a href=\"https://www.threads.net/\" title=\"查看 Threads\">Threads</a></li><li><a href=\"/fundraisers/\" title=\"捐款支持值得關注的公益理念。\">募款活動</a></li><li><a href=\"/biz/directory/\" title=\"瀏覽我們的 Facebook 服務目錄。\">服務</a></li><li><a href=\"/votinginformationcenter/?entry_point=c2l0ZQ%3D%3D\" title=\"查看投票資訊中心。\">投票資訊中心</a></li><li><a href=\"/privacy/policy/?entry_point=facebook_page_footer\" title=\"瞭解我們如何蒐集、使用和分享資料來支持 Facebook。\">《隱私政策》</a></li><li><a href=\"/privacy/center/?entry_point=facebook_page_footer\" title=\"瞭解如何管理和控制 Facebook 隱私設定。\">隱私中心</a></li><li><a href=\"/groups/discover/\" title=\"探索我們的社團。\">社團</a></li><li><a accesskey=\"8\" href=\"https://about.meta.com/\" title=\"追蹤我們的部落格、參考我們的資源中心以及工作機會。\">關於</a></li><li><a href=\"/ad_campaign/landing.php?placement=pflo&amp;campaign_id=402047449186&amp;nav_source=unknown&amp;extra_1=auto\" title=\"在 Facebook 刊登廣告。\">刊登廣告</a></li><li><a href=\"/pages/create/?ref_type=site_footer\" title=\"建立粉絲專頁\">建立粉絲專頁</a></li><li><a href=\"https://developers.facebook.com/?ref=pf\" title=\"使用我們的開發平台\">開發人員</a></li><li><a href=\"/careers/?ref=pf\" title=\"加入成為我們企業的一份子。\">工作機會</a></li><li><a data-nocookies=\"1\" href=\"/policies/cookies/\" title=\"瞭解 Cookie 和 Facebook\">Cookie</a></li><li><a class=\"_41ug\" data-nocookies=\"1\" href=\"https://www.facebook.com/help/568137493302217\" title=\"瞭解 Ad Choices。\">Ad Choices<i class=\"img sp_EP9wX8qDDvu sx_6bdd81\"></i></a></li><li><a accesskey=\"9\" data-nocookies=\"1\" href=\"/policies?ref=pf\" title=\"查閱我們的條款與政策。\">使用條款</a></li><li><a accesskey=\"0\" href=\"/help/?ref=pf\" title=\"前往我們的使用說明。\">使用說明</a></li><li><a href=\"help/637205020878504\" title=\"瀏覽「聯絡人上傳和非用戶」通知。\">聯絡人上傳和非用戶</a></li><li><a accesskey=\"6\" class=\"accessible_elem\" href=\"/settings\" title=\"查看並編輯你的 Facebook 設定。\">設定</a></li><li><a accesskey=\"7\" class=\"accessible_elem\" href=\"/allactivity?privacy_source=activity_log_top_menu\" title=\"查看活動紀錄\">活動紀錄</a></li></ul></div><div class=\"mvl copyright\"><div><span> Meta © 2023</span></div></div></div></div></div></div><div></div><span><img height=\"0\" src=\"https://facebook.com/security/hsts-pixel.gif?c=3.2.5\" style=\"display:none\" width=\"0\"/></span></div><div style=\"display:none\"></div>\n",
       "<script>requireLazy([\"HasteSupportData\"],function(m){m.handle({\"bxData\":{\"875231\":{\"uri\":\"https:\\/\\/static.xx.fbcdn.net\\/rsrc.php\\/yT\\/r\\/aGT3gskzWBf.ico\"}},\"clpData\":{\"1743095\":{\"r\":1,\"s\":1}},\"gkxData\":{\"1652843\":{\"result\":false,\"hash\":null},\"996940\":{\"result\":false,\"hash\":null}}})});requireLazy([\"Bootloader\"],function(m){m.handlePayload({\"consistency\":{\"rev\":1010343418},\"rsrcMap\":{\"inWD2ea\":{\"type\":\"js\",\"src\":\"https:\\/\\/static.xx.fbcdn.net\\/rsrc.php\\/v3\\/ye\\/r\\/a_TNkY9RAW1.js?_nc_x=Ij3Wp8lg5Kz\",\"nc\":1},\"KsbRs3u\":{\"type\":\"js\",\"src\":\"https:\\/\\/static.xx.fbcdn.net\\/rsrc.php\\/v3\\/yN\\/r\\/RkKp7NL-4Sq.js?_nc_x=Ij3Wp8lg5Kz\",\"nc\":1},\"ezPUKEL\":{\"type\":\"js\",\"src\":\"https:\\/\\/static.xx.fbcdn.net\\/rsrc.php\\/v3\\/yU\\/r\\/s_Izg7nAY9-.js?_nc_x=Ij3Wp8lg5Kz\",\"nc\":1},\"bgiCPxs\":{\"type\":\"js\",\"src\":\"https:\\/\\/static.xx.fbcdn.net\\/rsrc.php\\/v3\\/ya\\/r\\/GxGC52INhg0.js?_nc_x=Ij3Wp8lg5Kz\",\"nc\":1},\"M7\\/jlCR\":{\"type\":\"js\",\"src\":\"https:\\/\\/static.xx.fbcdn.net\\/rsrc.php\\/v3\\/yF\\/r\\/PtmfxLVwAb7.js?_nc_x=Ij3Wp8lg5Kz\",\"nc\":1},\"nPkfSCL\":{\"type\":\"js\",\"src\":\"https:\\/\\/static.xx.fbcdn.net\\/rsrc.php\\/v3\\/ym\\/r\\/fi9_yN9n_WX.js?_nc_x=Ij3Wp8lg5Kz\",\"nc\":1},\"O5XYsZY\":{\"type\":\"js\",\"src\":\"https:\\/\\/static.xx.fbcdn.net\\/rsrc.php\\/v3\\/yF\\/r\\/nDIMG4z3c_3.js?_nc_x=Ij3Wp8lg5Kz\",\"nc\":1},\"coXAcdj\":{\"type\":\"js\",\"src\":\"https:\\/\\/static.xx.fbcdn.net\\/rsrc.php\\/v3\\/yw\\/r\\/wm4d5zAAo-a.js?_nc_x=Ij3Wp8lg5Kz\",\"nc\":1},\"A8uxO0r\":{\"type\":\"js\",\"src\":\"https:\\/\\/static.xx.fbcdn.net\\/rsrc.php\\/v3iBmv4\\/yU\\/l\\/zh_TW\\/7m14lsO9uqO.js?_nc_x=Ij3Wp8lg5Kz\",\"nc\":1},\"rNHAT61\":{\"type\":\"js\",\"src\":\"https:\\/\\/static.xx.fbcdn.net\\/rsrc.php\\/v3\\/yz\\/r\\/dqd6vCA9PNV.js?_nc_x=Ij3Wp8lg5Kz\",\"nc\":1},\"+Fu52I4\":{\"type\":\"js\",\"src\":\"https:\\/\\/static.xx.fbcdn.net\\/rsrc.php\\/v3\\/yy\\/r\\/QcYlxMWQTQ-.js?_nc_x=Ij3Wp8lg5Kz\",\"nc\":1},\"KXYofHd\":{\"type\":\"js\",\"src\":\"https:\\/\\/static.xx.fbcdn.net\\/rsrc.php\\/v3iU-O4\\/yP\\/l\\/zh_TW\\/Z1939DHMSrx.js?_nc_x=Ij3Wp8lg5Kz\",\"nc\":1},\"pm0B5MU\":{\"type\":\"js\",\"src\":\"https:\\/\\/static.xx.fbcdn.net\\/rsrc.php\\/v3\\/yO\\/r\\/WjW7fIWvBra.js?_nc_x=Ij3Wp8lg5Kz\",\"nc\":1},\"kWyeNZx\":{\"type\":\"js\",\"src\":\"https:\\/\\/static.xx.fbcdn.net\\/rsrc.php\\/v3\\/yE\\/r\\/hNaGl-uOTME.js?_nc_x=Ij3Wp8lg5Kz\",\"nc\":1},\"9dWDUmY\":{\"type\":\"js\",\"src\":\"https:\\/\\/static.xx.fbcdn.net\\/rsrc.php\\/v3i63m4\\/yi\\/l\\/zh_TW\\/YoTddyRzZmh.js?_nc_x=Ij3Wp8lg5Kz\",\"nc\":1},\"\\/rZ3Kgg\":{\"type\":\"js\",\"src\":\"https:\\/\\/static.xx.fbcdn.net\\/rsrc.php\\/v3\\/yB\\/r\\/YoDsyacZv-f.js?_nc_x=Ij3Wp8lg5Kz\",\"nc\":1},\"sb2Z7d3\":{\"type\":\"js\",\"src\":\"https:\\/\\/static.xx.fbcdn.net\\/rsrc.php\\/v3\\/y6\\/r\\/o95MhjcKs5m.js?_nc_x=Ij3Wp8lg5Kz\",\"nc\":1},\"dPEs+9x\":{\"type\":\"js\",\"src\":\"https:\\/\\/static.xx.fbcdn.net\\/rsrc.php\\/v3\\/y1\\/r\\/xnNHjhrJ3Ns.js?_nc_x=Ij3Wp8lg5Kz\",\"nc\":1},\"3HdAXaS\":{\"type\":\"js\",\"src\":\"https:\\/\\/static.xx.fbcdn.net\\/rsrc.php\\/v3\\/yl\\/r\\/9lDiey1l9HS.js?_nc_x=Ij3Wp8lg5Kz\",\"nc\":1},\"kbjNhMO\":{\"type\":\"css\",\"src\":\"https:\\/\\/static.xx.fbcdn.net\\/rsrc.php\\/v3\\/ye\\/l\\/1,cross\\/G8LjEYT8RSH.css?_nc_x=Ij3Wp8lg5Kz\",\"nc\":1},\"8Oo6OTq\":{\"type\":\"js\",\"src\":\"https:\\/\\/static.xx.fbcdn.net\\/rsrc.php\\/v3\\/ya\\/r\\/v70fwGcPU84.js?_nc_x=Ij3Wp8lg5Kz\",\"nc\":1},\"\\/AN8Bt5\":{\"type\":\"js\",\"src\":\"https:\\/\\/static.xx.fbcdn.net\\/rsrc.php\\/v3\\/y2\\/r\\/3FPJ9YC_wUr.js?_nc_x=Ij3Wp8lg5Kz\",\"nc\":1},\"y1rEgOS\":{\"type\":\"js\",\"src\":\"https:\\/\\/static.xx.fbcdn.net\\/rsrc.php\\/v3\\/yN\\/r\\/FEYuBywZ5D6.js?_nc_x=Ij3Wp8lg5Kz\",\"nc\":1},\"OSkr7Jh\":{\"type\":\"js\",\"src\":\"https:\\/\\/static.xx.fbcdn.net\\/rsrc.php\\/v3\\/yj\\/r\\/xPveF4zw6sV.js?_nc_x=Ij3Wp8lg5Kz\",\"nc\":1},\"W5vc6gy\":{\"type\":\"js\",\"src\":\"https:\\/\\/static.xx.fbcdn.net\\/rsrc.php\\/v3\\/yZ\\/r\\/cA_3fTtJxgp.js?_nc_x=Ij3Wp8lg5Kz\",\"nc\":1},\"AiayOh0\":{\"type\":\"js\",\"src\":\"https:\\/\\/static.xx.fbcdn.net\\/rsrc.php\\/v3\\/yR\\/r\\/PceR4zK3RHZ.js?_nc_x=Ij3Wp8lg5Kz\",\"nc\":1},\"zGBCGbP\":{\"type\":\"js\",\"src\":\"https:\\/\\/static.xx.fbcdn.net\\/rsrc.php\\/v3\\/yf\\/r\\/t6t6mVeu0oB.js?_nc_x=Ij3Wp8lg5Kz\",\"nc\":1},\"oRJJljL\":{\"type\":\"js\",\"src\":\"https:\\/\\/static.xx.fbcdn.net\\/rsrc.php\\/v3iAHa4\\/yU\\/l\\/zh_TW\\/zn37L1-eFvQ.js?_nc_x=Ij3Wp8lg5Kz\",\"nc\":1},\"4+OLCrF\":{\"type\":\"js\",\"src\":\"https:\\/\\/static.xx.fbcdn.net\\/rsrc.php\\/v3\\/yf\\/r\\/xoKjJUOmKD9.js?_nc_x=Ij3Wp8lg5Kz\",\"nc\":1},\"Hsv+kzV\":{\"type\":\"js\",\"src\":\"https:\\/\\/static.xx.fbcdn.net\\/rsrc.php\\/v3iFlH4\\/yL\\/l\\/zh_TW\\/efGlX2rJY5S.js?_nc_x=Ij3Wp8lg5Kz\",\"nc\":1},\"aNJNbhK\":{\"type\":\"js\",\"src\":\"https:\\/\\/static.xx.fbcdn.net\\/rsrc.php\\/v3ir4z4\\/yz\\/l\\/zh_TW\\/7N_ooaQg2p8.js?_nc_x=Ij3Wp8lg5Kz\",\"nc\":1},\"SGs16Sf\":{\"type\":\"css\",\"src\":\"https:\\/\\/static.xx.fbcdn.net\\/rsrc.php\\/v3\\/yE\\/l\\/1,cross\\/jmmYzEilF6t.css?_nc_x=Ij3Wp8lg5Kz\",\"nc\":1},\"RlmeJtj\":{\"type\":\"js\",\"src\":\"https:\\/\\/static.xx.fbcdn.net\\/rsrc.php\\/v3iaXQ4\\/ye\\/l\\/zh_TW\\/nBniXd5BGvZ.js?_nc_x=Ij3Wp8lg5Kz\",\"nc\":1},\"bQ1Jyzt\":{\"type\":\"js\",\"src\":\"https:\\/\\/static.xx.fbcdn.net\\/rsrc.php\\/v3iU-H4\\/yH\\/l\\/zh_TW\\/QgteTChWhWC.js?_nc_x=Ij3Wp8lg5Kz\",\"nc\":1},\"bgrUUCI\":{\"type\":\"css\",\"src\":\"https:\\/\\/static.xx.fbcdn.net\\/rsrc.php\\/v3\\/yn\\/l\\/1,cross\\/VbcuGTvtJ9v.css?_nc_x=Ij3Wp8lg5Kz\",\"nc\":1},\"AHwD5Rl\":{\"type\":\"js\",\"src\":\"https:\\/\\/static.xx.fbcdn.net\\/rsrc.php\\/v3icxM4\\/yL\\/l\\/zh_TW\\/SKW70AR58Nl.js?_nc_x=Ij3Wp8lg5Kz\",\"nc\":1},\"V\\/hl7h1\":{\"type\":\"css\",\"src\":\"https:\\/\\/static.xx.fbcdn.net\\/rsrc.php\\/v3\\/yo\\/l\\/1,cross\\/tfsJRYScVSk.css?_nc_x=Ij3Wp8lg5Kz\",\"nc\":1},\"X+gpPFv\":{\"type\":\"js\",\"src\":\"https:\\/\\/static.xx.fbcdn.net\\/rsrc.php\\/v3\\/y1\\/r\\/EClxS8wgFa2.js?_nc_x=Ij3Wp8lg5Kz\",\"nc\":1},\"UZIP3gE\":{\"type\":\"js\",\"src\":\"https:\\/\\/static.xx.fbcdn.net\\/rsrc.php\\/v3\\/yZ\\/r\\/0CSBUz_EdNr.js?_nc_x=Ij3Wp8lg5Kz\",\"nc\":1},\"GpQFBwL\":{\"type\":\"js\",\"src\":\"https:\\/\\/static.xx.fbcdn.net\\/rsrc.php\\/v3\\/yQ\\/r\\/zyRovCtoGSI.js?_nc_x=Ij3Wp8lg5Kz\",\"nc\":1},\"5j7FSMt\":{\"type\":\"js\",\"src\":\"https:\\/\\/static.xx.fbcdn.net\\/rsrc.php\\/v3\\/yR\\/r\\/HdtFq9_hmzL.js?_nc_x=Ij3Wp8lg5Kz\",\"nc\":1},\"lxbWZ5J\":{\"type\":\"js\",\"src\":\"https:\\/\\/static.xx.fbcdn.net\\/rsrc.php\\/v3\\/yy\\/r\\/OvSACoxNLe8.js?_nc_x=Ij3Wp8lg5Kz\",\"nc\":1},\"gwFjdds\":{\"type\":\"js\",\"src\":\"https:\\/\\/static.xx.fbcdn.net\\/rsrc.php\\/v3\\/yZ\\/r\\/skazhVdw245.js?_nc_x=Ij3Wp8lg5Kz\",\"nc\":1},\"I8asZxF\":{\"type\":\"js\",\"src\":\"https:\\/\\/static.xx.fbcdn.net\\/rsrc.php\\/v3\\/yp\\/r\\/ISUe9_7D94n.js?_nc_x=Ij3Wp8lg5Kz\",\"nc\":1},\"xNKoxWI\":{\"type\":\"css\",\"src\":\"https:\\/\\/static.xx.fbcdn.net\\/rsrc.php\\/v3\\/y6\\/l\\/1,cross\\/2eOaGisazcx.css?_nc_x=Ij3Wp8lg5Kz\",\"nc\":1},\"cqPMS8T\":{\"type\":\"css\",\"src\":\"https:\\/\\/static.xx.fbcdn.net\\/rsrc.php\\/v3\\/yN\\/l\\/1,cross\\/eg6MWiDEWgs.css?_nc_x=Ij3Wp8lg5Kz\",\"nc\":1},\"GTko5Aj\":{\"type\":\"js\",\"src\":\"https:\\/\\/static.xx.fbcdn.net\\/rsrc.php\\/v3i1iQ4\\/yb\\/l\\/zh_TW\\/yKgft2FxeOT.js?_nc_x=Ij3Wp8lg5Kz\",\"nc\":1},\"dkkIN6a\":{\"type\":\"js\",\"src\":\"https:\\/\\/static.xx.fbcdn.net\\/rsrc.php\\/v3iGgs4\\/yd\\/l\\/zh_TW\\/df7VayKZsiK.js?_nc_x=Ij3Wp8lg5Kz\",\"nc\":1},\"e8RkJoy\":{\"type\":\"css\",\"src\":\"https:\\/\\/static.xx.fbcdn.net\\/rsrc.php\\/v3\\/yY\\/l\\/1,cross\\/5_76epdonNu.css?_nc_x=Ij3Wp8lg5Kz\",\"nc\":1},\"Dn8mxhm\":{\"type\":\"js\",\"src\":\"https:\\/\\/static.xx.fbcdn.net\\/rsrc.php\\/v3\\/yh\\/r\\/5YJJZ1WjDXH.js?_nc_x=Ij3Wp8lg5Kz\",\"nc\":1},\"R1QMm9b\":{\"type\":\"js\",\"src\":\"https:\\/\\/static.xx.fbcdn.net\\/rsrc.php\\/v3iKJY4\\/yN\\/l\\/zh_TW\\/5MgB6GV8ZMz.js?_nc_x=Ij3Wp8lg5Kz\",\"nc\":1},\"dajHsgM\":{\"type\":\"js\",\"src\":\"https:\\/\\/static.xx.fbcdn.net\\/rsrc.php\\/v3i5u74\\/yq\\/l\\/zh_TW\\/rV4VQC0A8px.js?_nc_x=Ij3Wp8lg5Kz\",\"nc\":1},\"DmO8i6D\":{\"type\":\"js\",\"src\":\"https:\\/\\/static.xx.fbcdn.net\\/rsrc.php\\/v3\\/yC\\/r\\/SrKAqQA2141.js?_nc_x=Ij3Wp8lg5Kz\",\"nc\":1},\"gIz8SW0\":{\"type\":\"js\",\"src\":\"https:\\/\\/static.xx.fbcdn.net\\/rsrc.php\\/v3iFvO4\\/yD\\/l\\/zh_TW\\/xEjOHLmH8el.js?_nc_x=Ij3Wp8lg5Kz\",\"nc\":1},\"7EErzRr\":{\"type\":\"css\",\"src\":\"https:\\/\\/static.xx.fbcdn.net\\/rsrc.php\\/v3\\/yV\\/l\\/1,cross\\/wMEuUm4223L.css?_nc_x=Ij3Wp8lg5Kz\",\"nc\":1},\"2vrf0sa\":{\"type\":\"js\",\"src\":\"https:\\/\\/static.xx.fbcdn.net\\/rsrc.php\\/v3iQ_Z4\\/yh\\/l\\/zh_TW\\/JGOeVQjS3fq.js?_nc_x=Ij3Wp8lg5Kz\",\"nc\":1},\"v\\/anSrY\":{\"type\":\"js\",\"src\":\"https:\\/\\/static.xx.fbcdn.net\\/rsrc.php\\/v3\\/yU\\/r\\/OAlvN9sqbTZ.js?_nc_x=Ij3Wp8lg5Kz\",\"nc\":1},\"+ydVE+r\":{\"type\":\"js\",\"src\":\"https:\\/\\/static.xx.fbcdn.net\\/rsrc.php\\/v3iwcb4\\/yO\\/l\\/zh_TW\\/FCLIwAJupfX.js?_nc_x=Ij3Wp8lg5Kz\",\"nc\":1},\"a7ycxzq\":{\"type\":\"css\",\"src\":\"https:\\/\\/static.xx.fbcdn.net\\/rsrc.php\\/v3\\/yz\\/l\\/1,cross\\/FFBrdQZSij_.css?_nc_x=Ij3Wp8lg5Kz\",\"nc\":1},\"Wq7JJVl\":{\"type\":\"js\",\"src\":\"https:\\/\\/static.xx.fbcdn.net\\/rsrc.php\\/v3iOTO4\\/ym\\/l\\/zh_TW\\/Md8QhpmrgZ7.js?_nc_x=Ij3Wp8lg5Kz\",\"nc\":1},\"7G0B4uw\":{\"type\":\"js\",\"src\":\"https:\\/\\/static.xx.fbcdn.net\\/rsrc.php\\/v3\\/yH\\/r\\/2tdMmjuGPUl.js?_nc_x=Ij3Wp8lg5Kz\",\"nc\":1},\"C1EfGym\":{\"type\":\"js\",\"src\":\"https:\\/\\/static.xx.fbcdn.net\\/rsrc.php\\/v3\\/yZ\\/r\\/DjU0d_ZlKOL.js?_nc_x=Ij3Wp8lg5Kz\",\"nc\":1},\"lkLGCcW\":{\"type\":\"js\",\"src\":\"https:\\/\\/static.xx.fbcdn.net\\/rsrc.php\\/v3\\/yK\\/r\\/r_jcEh60Mmn.js?_nc_x=Ij3Wp8lg5Kz\",\"nc\":1},\"nq+Uy4t\":{\"type\":\"js\",\"src\":\"https:\\/\\/static.xx.fbcdn.net\\/rsrc.php\\/v3\\/y5\\/r\\/meYsyi7m2mj.js?_nc_x=Ij3Wp8lg5Kz\",\"nc\":1},\"pc9vTg1\":{\"type\":\"js\",\"src\":\"https:\\/\\/static.xx.fbcdn.net\\/rsrc.php\\/v3i-7L4\\/y4\\/l\\/zh_TW\\/GJX9B-r_rgg.js?_nc_x=Ij3Wp8lg5Kz\",\"nc\":1},\"LjrM2l1\":{\"type\":\"js\",\"src\":\"https:\\/\\/static.xx.fbcdn.net\\/rsrc.php\\/v3\\/yA\\/r\\/F8UT-e4KuGk.js?_nc_x=Ij3Wp8lg5Kz\",\"nc\":1},\"MGEjeJq\":{\"type\":\"js\",\"src\":\"https:\\/\\/static.xx.fbcdn.net\\/rsrc.php\\/v3\\/yc\\/r\\/OY9-5JdcnPe.js?_nc_x=Ij3Wp8lg5Kz\",\"nc\":1},\"t0F0W4f\":{\"type\":\"js\",\"src\":\"https:\\/\\/static.xx.fbcdn.net\\/rsrc.php\\/v3ilxu4\\/yi\\/l\\/zh_TW\\/O6Jp40tpVnR.js?_nc_x=Ij3Wp8lg5Kz\",\"nc\":1},\"Z5\\/bqcM\":{\"type\":\"js\",\"src\":\"https:\\/\\/static.xx.fbcdn.net\\/rsrc.php\\/v3ihbI4\\/y3\\/l\\/zh_TW\\/9oll6wIIimV.js?_nc_x=Ij3Wp8lg5Kz\",\"nc\":1},\"7vIQZyF\":{\"type\":\"js\",\"src\":\"https:\\/\\/static.xx.fbcdn.net\\/rsrc.php\\/v3ihLT4\\/yf\\/l\\/zh_TW\\/uUqSEQClfpa.js?_nc_x=Ij3Wp8lg5Kz\",\"nc\":1},\"n4eZsys\":{\"type\":\"js\",\"src\":\"https:\\/\\/static.xx.fbcdn.net\\/rsrc.php\\/v3\\/yk\\/r\\/hF9aZxysYI3.js?_nc_x=Ij3Wp8lg5Kz\",\"nc\":1},\"iUBfB\\/j\":{\"type\":\"js\",\"src\":\"https:\\/\\/static.xx.fbcdn.net\\/rsrc.php\\/v3iDir4\\/y2\\/l\\/zh_TW\\/N2vnaY9Ggv3.js?_nc_x=Ij3Wp8lg5Kz\",\"nc\":1},\"jsByKBH\":{\"type\":\"css\",\"src\":\"https:\\/\\/static.xx.fbcdn.net\\/rsrc.php\\/v3\\/yf\\/l\\/1,cross\\/7cYBtZM1s5y.css?_nc_x=Ij3Wp8lg5Kz\",\"nc\":1},\"7JJzRZz\":{\"type\":\"js\",\"src\":\"https:\\/\\/static.xx.fbcdn.net\\/rsrc.php\\/v3ilMH4\\/yC\\/l\\/zh_TW\\/szb0BIMk1ig.js?_nc_x=Ij3Wp8lg5Kz\",\"nc\":1},\"9wlZLUU\":{\"type\":\"js\",\"src\":\"https:\\/\\/static.xx.fbcdn.net\\/rsrc.php\\/v3i8594\\/yy\\/l\\/zh_TW\\/Xv6fZvyuQJj.js?_nc_x=Ij3Wp8lg5Kz\",\"nc\":1},\"zTtcz7i\":{\"type\":\"js\",\"src\":\"https:\\/\\/static.xx.fbcdn.net\\/rsrc.php\\/v3\\/yx\\/r\\/XgcjQQDepsv.js?_nc_x=Ij3Wp8lg5Kz\",\"nc\":1},\"BOfcLZG\":{\"type\":\"js\",\"src\":\"https:\\/\\/static.xx.fbcdn.net\\/rsrc.php\\/v3\\/yZ\\/r\\/Y8YoPGcGb0i.js?_nc_x=Ij3Wp8lg5Kz\",\"nc\":1},\"7X\\/R76+\":{\"type\":\"js\",\"src\":\"https:\\/\\/static.xx.fbcdn.net\\/rsrc.php\\/v3\\/yY\\/r\\/BqEjD1dj1pL.js?_nc_x=Ij3Wp8lg5Kz\",\"nc\":1},\"VUf0TdJ\":{\"type\":\"css\",\"src\":\"https:\\/\\/static.xx.fbcdn.net\\/rsrc.php\\/v3\\/yv\\/l\\/1,cross\\/sx0daXJo_Ey.css?_nc_x=Ij3Wp8lg5Kz\",\"nc\":1},\"U3vR3UJ\":{\"type\":\"js\",\"src\":\"https:\\/\\/static.xx.fbcdn.net\\/rsrc.php\\/v3izBe4\\/y5\\/l\\/zh_TW\\/w6HRanQvzJ5.js?_nc_x=Ij3Wp8lg5Kz\",\"nc\":1},\"Vrl1Tgi\":{\"type\":\"css\",\"src\":\"https:\\/\\/static.xx.fbcdn.net\\/rsrc.php\\/v3\\/yI\\/l\\/1,cross\\/tu-wLpjxWnO.css?_nc_x=Ij3Wp8lg5Kz\",\"nc\":1},\"O5qCRQF\":{\"type\":\"js\",\"src\":\"https:\\/\\/static.xx.fbcdn.net\\/rsrc.php\\/v3\\/yD\\/r\\/u1fduC4ASWS.js?_nc_x=Ij3Wp8lg5Kz\",\"nc\":1},\"tmFAZsh\":{\"type\":\"css\",\"src\":\"https:\\/\\/static.xx.fbcdn.net\\/rsrc.php\\/v3\\/yI\\/l\\/1,cross\\/ohJZDV5ed44.css?_nc_x=Ij3Wp8lg5Kz\",\"nc\":1},\"xqvL9Tf\":{\"type\":\"js\",\"src\":\"https:\\/\\/static.xx.fbcdn.net\\/rsrc.php\\/v3i4_t4\\/yL\\/l\\/zh_TW\\/-Lsr2yqJmKr.js?_nc_x=Ij3Wp8lg5Kz\",\"nc\":1},\"IHGOWvv\":{\"type\":\"js\",\"src\":\"https:\\/\\/static.xx.fbcdn.net\\/rsrc.php\\/v3iFvO4\\/yc\\/l\\/zh_TW\\/H_PvSp8XIkX.js?_nc_x=Ij3Wp8lg5Kz\",\"nc\":1},\"Q6Qt1Hk\":{\"type\":\"css\",\"src\":\"https:\\/\\/static.xx.fbcdn.net\\/rsrc.php\\/v3\\/yy\\/l\\/1,cross\\/1BbHn58FYlW.css?_nc_x=Ij3Wp8lg5Kz\",\"nc\":1},\"MGEMI23\":{\"type\":\"js\",\"src\":\"https:\\/\\/static.xx.fbcdn.net\\/rsrc.php\\/v3\\/yx\\/r\\/E5sqgbiLLjl.js?_nc_x=Ij3Wp8lg5Kz\",\"nc\":1},\"OnU0zJa\":{\"type\":\"css\",\"src\":\"https:\\/\\/static.xx.fbcdn.net\\/rsrc.php\\/v3\\/yT\\/l\\/1,cross\\/H4mIrgdrmw8.css?_nc_x=Ij3Wp8lg5Kz\",\"nc\":1},\"IaOVmXe\":{\"type\":\"css\",\"src\":\"https:\\/\\/static.xx.fbcdn.net\\/rsrc.php\\/v3\\/yi\\/l\\/1,cross\\/m_oldWzbELS.css?_nc_x=Ij3Wp8lg5Kz\",\"nc\":1},\"iqP5D5F\":{\"type\":\"js\",\"src\":\"https:\\/\\/static.xx.fbcdn.net\\/rsrc.php\\/v3i3kX4\\/ye\\/l\\/zh_TW\\/KT0VQ2I5DzP.js?_nc_x=Ij3Wp8lg5Kz\",\"nc\":1},\"nCFpfyq\":{\"type\":\"js\",\"src\":\"https:\\/\\/static.xx.fbcdn.net\\/rsrc.php\\/v3\\/yU\\/r\\/GOk-1u8p5hJ.js?_nc_x=Ij3Wp8lg5Kz\",\"nc\":1},\"KTJXyzv\":{\"type\":\"js\",\"src\":\"https:\\/\\/static.xx.fbcdn.net\\/rsrc.php\\/v3\\/yG\\/r\\/Mdl4See5q5E.js?_nc_x=Ij3Wp8lg5Kz\",\"nc\":1},\"xsFg75a\":{\"type\":\"js\",\"src\":\"https:\\/\\/static.xx.fbcdn.net\\/rsrc.php\\/v3\\/yt\\/r\\/mnLc1TS2Wp-.js?_nc_x=Ij3Wp8lg5Kz\",\"nc\":1},\"aEwSXz4\":{\"type\":\"js\",\"src\":\"https:\\/\\/static.xx.fbcdn.net\\/rsrc.php\\/v3\\/yP\\/r\\/aBIoq18cchP.js?_nc_x=Ij3Wp8lg5Kz\",\"nc\":1},\"rCasuzG\":{\"type\":\"js\",\"src\":\"https:\\/\\/static.xx.fbcdn.net\\/rsrc.php\\/v3\\/yA\\/r\\/OzWmCcYw0wO.js?_nc_x=Ij3Wp8lg5Kz\",\"nc\":1},\"R7mqa9A\":{\"type\":\"js\",\"src\":\"https:\\/\\/static.xx.fbcdn.net\\/rsrc.php\\/v3iVVz4\\/yv\\/l\\/zh_TW\\/Y0o0Fr2GMBb.js?_nc_x=Ij3Wp8lg5Kz\",\"nc\":1},\"SWx3yNv\":{\"type\":\"js\",\"src\":\"https:\\/\\/static.xx.fbcdn.net\\/rsrc.php\\/v3\\/y7\\/r\\/g__eV5OXSXl.js?_nc_x=Ij3Wp8lg5Kz\",\"nc\":1},\"SKLfEIC\":{\"type\":\"js\",\"src\":\"https:\\/\\/static.xx.fbcdn.net\\/rsrc.php\\/v3iXLX4\\/yB\\/l\\/zh_TW\\/_sF0skRt2Gv.js?_nc_x=Ij3Wp8lg5Kz\",\"nc\":1},\"x22Oby4\":{\"type\":\"js\",\"src\":\"https:\\/\\/static.xx.fbcdn.net\\/rsrc.php\\/v3\\/yZ\\/r\\/tVshp1OIV9l.js?_nc_x=Ij3Wp8lg5Kz\",\"nc\":1},\"8ELCBwH\":{\"type\":\"js\",\"src\":\"https:\\/\\/static.xx.fbcdn.net\\/rsrc.php\\/v3\\/ye\\/r\\/VRzSVH5iU-V.js?_nc_x=Ij3Wp8lg5Kz\",\"nc\":1},\"8HsOMdM\":{\"type\":\"js\",\"src\":\"https:\\/\\/static.xx.fbcdn.net\\/rsrc.php\\/v3\\/y3\\/r\\/N5zy-l8K8Fs.js?_nc_x=Ij3Wp8lg5Kz\",\"nc\":1},\"QyoftxH\":{\"type\":\"js\",\"src\":\"https:\\/\\/static.xx.fbcdn.net\\/rsrc.php\\/v3\\/yL\\/r\\/j-_AFWnS2kv.js?_nc_x=Ij3Wp8lg5Kz\",\"nc\":1},\"H\\/5lfuF\":{\"type\":\"js\",\"src\":\"https:\\/\\/static.xx.fbcdn.net\\/rsrc.php\\/v3\\/yF\\/r\\/iqrvM8jAXX7.js?_nc_x=Ij3Wp8lg5Kz\",\"nc\":1},\"17Grp2h\":{\"type\":\"js\",\"src\":\"https:\\/\\/static.xx.fbcdn.net\\/rsrc.php\\/v3\\/y-\\/r\\/HhbMrxvaW_H.js?_nc_x=Ij3Wp8lg5Kz\",\"nc\":1},\"QIamfde\":{\"type\":\"js\",\"src\":\"https:\\/\\/static.xx.fbcdn.net\\/rsrc.php\\/v3\\/yA\\/r\\/Y37sQzk-yb8.js?_nc_x=Ij3Wp8lg5Kz\",\"nc\":1},\"TMCnFn9\":{\"type\":\"js\",\"src\":\"https:\\/\\/static.xx.fbcdn.net\\/rsrc.php\\/v3\\/yJ\\/r\\/a1OLcVhluEP.js?_nc_x=Ij3Wp8lg5Kz\",\"nc\":1},\"dlMdW7h\":{\"type\":\"js\",\"src\":\"https:\\/\\/static.xx.fbcdn.net\\/rsrc.php\\/v3\\/yv\\/r\\/qvzskUrYlYC.js?_nc_x=Ij3Wp8lg5Kz\",\"nc\":1},\"BFolX4R\":{\"type\":\"js\",\"src\":\"https:\\/\\/static.xx.fbcdn.net\\/rsrc.php\\/v3\\/yp\\/r\\/sKtrEJAtiUM.js?_nc_x=Ij3Wp8lg5Kz\",\"nc\":1},\"P\\/mr5VE\":{\"type\":\"css\",\"src\":\"data:text\\/css; charset=utf-8;base64,I2Jvb3Rsb2FkZXJfUF9tcjVWRXtoZWlnaHQ6NDJweDt9LmJvb3Rsb2FkZXJfUF9tcjVWRXtkaXNwbGF5OmJsb2NrIWltcG9ydGFudDt9\",\"nc\":1,\"d\":1}},\"compMap\":{\"Dock\":{\"r\":[\"inWD2ea\",\"ECmA6zn\",\"KsbRs3u\",\"ezPUKEL\",\"bgiCPxs\",\"GrqIbBd\",\"M7\\/jlCR\",\"nPkfSCL\",\"O5XYsZY\",\"coXAcdj\",\"A8uxO0r\",\"rNHAT61\",\"+Fu52I4\",\"KXYofHd\"],\"be\":1},\"WebSpeedInteractionsTypedLogger\":{\"r\":[\"bgiCPxs\",\"pm0B5MU\",\"kWyeNZx\"],\"be\":1},\"AsyncRequest\":{\"r\":[\"inWD2ea\",\"bgiCPxs\",\"9dWDUmY\",\"\\/rZ3Kgg\",\"GrqIbBd\"],\"rds\":{\"m\":[\"FbtLogging\",\"IntlQtEventFalcoEvent\"]},\"be\":1},\"DOM\":{\"r\":[\"inWD2ea\",\"bgiCPxs\",\"GrqIbBd\"],\"be\":1},\"Form\":{\"r\":[\"inWD2ea\",\"bgiCPxs\",\"sb2Z7d3\",\"GrqIbBd\"],\"be\":1},\"FormSubmit\":{\"r\":[\"inWD2ea\",\"bgiCPxs\",\"9dWDUmY\",\"dPEs+9x\",\"sb2Z7d3\",\"\\/rZ3Kgg\",\"GrqIbBd\"],\"rds\":{\"m\":[\"FbtLogging\",\"IntlQtEventFalcoEvent\"]},\"be\":1},\"Input\":{\"r\":[\"sb2Z7d3\"],\"be\":1},\"Toggler\":{\"r\":[\"inWD2ea\",\"ECmA6zn\",\"ezPUKEL\",\"bgiCPxs\",\"GrqIbBd\",\"M7\\/jlCR\",\"nPkfSCL\",\"O5XYsZY\",\"coXAcdj\",\"+Fu52I4\"],\"be\":1},\"Tooltip\":{\"r\":[\"inWD2ea\",\"KsbRs3u\",\"+U4Ilr9\",\"ezPUKEL\",\"bgiCPxs\",\"9dWDUmY\",\"3HdAXaS\",\"GrqIbBd\",\"kbjNhMO\",\"8Oo6OTq\",\"nPkfSCL\",\"O5XYsZY\",\"\\/AN8Bt5\",\"y1rEgOS\",\"OSkr7Jh\",\"rNHAT61\",\"+Fu52I4\",\"\\/rZ3Kgg\",\"W5vc6gy\",\"KXYofHd\",\"AiayOh0\",\"zGBCGbP\",\"coXAcdj\",\"oRJJljL\",\"sb2Z7d3\",\"4+OLCrF\"],\"rds\":{\"m\":[\"FbtLogging\",\"IntlQtEventFalcoEvent\",\"PageTransitions\",\"Animation\"]},\"be\":1},\"URI\":{\"r\":[],\"be\":1},\"trackReferrer\":{\"r\":[],\"be\":1},\"PhotoTagApproval\":{\"r\":[\"inWD2ea\",\"Hsv+kzV\",\"aNJNbhK\",\"bgiCPxs\",\"GrqIbBd\"],\"be\":1},\"PhotoSnowlift\":{\"r\":[\"SGs16Sf\",\"inWD2ea\",\"RlmeJtj\",\"ECmA6zn\",\"bQ1Jyzt\",\"KsbRs3u\",\"bgrUUCI\",\"AHwD5Rl\",\"zGBCGbP\",\"V\\/hl7h1\",\"X+gpPFv\",\"+U4Ilr9\",\"UZIP3gE\",\"ezPUKEL\",\"GpQFBwL\",\"5j7FSMt\",\"aNJNbhK\",\"lxbWZ5J\",\"gwFjdds\",\"I8asZxF\",\"bgiCPxs\",\"xNKoxWI\",\"cqPMS8T\",\"GTko5Aj\",\"dkkIN6a\",\"9dWDUmY\",\"e8RkJoy\",\"Dn8mxhm\",\"3HdAXaS\",\"GrqIbBd\",\"R1QMm9b\",\"M7\\/jlCR\",\"dajHsgM\",\"DmO8i6D\",\"gIz8SW0\",\"dPEs+9x\",\"7EErzRr\",\"kbjNhMO\",\"2vrf0sa\",\"v\\/anSrY\",\"8Oo6OTq\",\"4+OLCrF\",\"+ydVE+r\",\"nPkfSCL\",\"O5XYsZY\",\"coXAcdj\",\"\\/AN8Bt5\",\"a7ycxzq\",\"Wq7JJVl\",\"7G0B4uw\",\"y1rEgOS\",\"C1EfGym\",\"oRJJljL\",\"lkLGCcW\",\"OSkr7Jh\",\"nq+Uy4t\",\"pc9vTg1\",\"A8uxO0r\",\"rNHAT61\",\"sb2Z7d3\",\"LjrM2l1\",\"+Fu52I4\",\"\\/rZ3Kgg\",\"MGEjeJq\",\"t0F0W4f\",\"W5vc6gy\",\"Z5\\/bqcM\",\"7vIQZyF\",\"n4eZsys\",\"KXYofHd\",\"iUBfB\\/j\",\"jsByKBH\",\"7JJzRZz\",\"9wlZLUU\",\"zTtcz7i\",\"AiayOh0\",\"BOfcLZG\",\"7X\\/R76+\",\"kWyeNZx\",\"VUf0TdJ\",\"U3vR3UJ\"],\"rds\":{\"m\":[\"Animation\",\"FbtLogging\",\"IntlQtEventFalcoEvent\",\"PageTransitions\"]},\"be\":1},\"PhotoTagger\":{\"r\":[\"inWD2ea\",\"Hsv+kzV\",\"ECmA6zn\",\"KsbRs3u\",\"+U4Ilr9\",\"ezPUKEL\",\"aNJNbhK\",\"bgiCPxs\",\"cqPMS8T\",\"Vrl1Tgi\",\"GTko5Aj\",\"9dWDUmY\",\"Dn8mxhm\",\"3HdAXaS\",\"GrqIbBd\",\"O5qCRQF\",\"tmFAZsh\",\"xqvL9Tf\",\"kbjNhMO\",\"IHGOWvv\",\"8Oo6OTq\",\"4+OLCrF\",\"nPkfSCL\",\"O5XYsZY\",\"\\/AN8Bt5\",\"y1rEgOS\",\"oRJJljL\",\"Q6Qt1Hk\",\"OSkr7Jh\",\"rNHAT61\",\"LjrM2l1\",\"+Fu52I4\",\"\\/rZ3Kgg\",\"W5vc6gy\",\"KXYofHd\",\"AiayOh0\",\"lxbWZ5J\",\"kWyeNZx\",\"zGBCGbP\",\"coXAcdj\",\"sb2Z7d3\",\"DmO8i6D\",\"U3vR3UJ\"],\"rds\":{\"m\":[\"FbtLogging\",\"IntlQtEventFalcoEvent\",\"PageTransitions\",\"Animation\"]},\"be\":1},\"PhotoTags\":{\"r\":[\"inWD2ea\",\"Hsv+kzV\",\"aNJNbhK\",\"bgiCPxs\",\"nPkfSCL\",\"GrqIbBd\"],\"be\":1},\"TagTokenizer\":{\"r\":[\"inWD2ea\",\"Hsv+kzV\",\"MGEMI23\",\"ezPUKEL\",\"OnU0zJa\",\"bgiCPxs\",\"cqPMS8T\",\"GTko5Aj\",\"GrqIbBd\",\"IaOVmXe\",\"nPkfSCL\",\"iqP5D5F\",\"sb2Z7d3\",\"+Fu52I4\",\"nCFpfyq\"],\"rds\":{\"m\":[\"FbtLogging\",\"IntlQtEventFalcoEvent\"],\"r\":[\"9dWDUmY\"]},\"be\":1},\"AsyncDialog\":{\"r\":[\"inWD2ea\",\"ECmA6zn\",\"KsbRs3u\",\"V\\/hl7h1\",\"ezPUKEL\",\"5j7FSMt\",\"gwFjdds\",\"bgiCPxs\",\"cqPMS8T\",\"9dWDUmY\",\"e8RkJoy\",\"Dn8mxhm\",\"3HdAXaS\",\"GrqIbBd\",\"M7\\/jlCR\",\"gIz8SW0\",\"kbjNhMO\",\"8Oo6OTq\",\"4+OLCrF\",\"nPkfSCL\",\"O5XYsZY\",\"coXAcdj\",\"y1rEgOS\",\"oRJJljL\",\"rNHAT61\",\"+Fu52I4\",\"\\/rZ3Kgg\",\"W5vc6gy\",\"KXYofHd\",\"7JJzRZz\",\"AiayOh0\",\"BOfcLZG\",\"lxbWZ5J\",\"DmO8i6D\",\"U3vR3UJ\"],\"rds\":{\"m\":[\"FbtLogging\",\"IntlQtEventFalcoEvent\"]},\"be\":1},\"Hovercard\":{\"r\":[\"inWD2ea\",\"ECmA6zn\",\"KsbRs3u\",\"+U4Ilr9\",\"ezPUKEL\",\"bgiCPxs\",\"cqPMS8T\",\"Vrl1Tgi\",\"GTko5Aj\",\"9dWDUmY\",\"Dn8mxhm\",\"3HdAXaS\",\"GrqIbBd\",\"xqvL9Tf\",\"kbjNhMO\",\"IHGOWvv\",\"8Oo6OTq\",\"nPkfSCL\",\"O5XYsZY\",\"\\/AN8Bt5\",\"y1rEgOS\",\"oRJJljL\",\"Q6Qt1Hk\",\"OSkr7Jh\",\"rNHAT61\",\"+Fu52I4\",\"\\/rZ3Kgg\",\"W5vc6gy\",\"KXYofHd\",\"AiayOh0\",\"kWyeNZx\",\"zGBCGbP\",\"coXAcdj\",\"sb2Z7d3\",\"4+OLCrF\"],\"rds\":{\"m\":[\"FbtLogging\",\"IntlQtEventFalcoEvent\",\"PageTransitions\",\"Animation\"]},\"be\":1},\"XSalesPromoWWWDetailsDialogAsyncController\":{\"r\":[\"KTJXyzv\",\"\\/rZ3Kgg\"],\"be\":1},\"XOfferController\":{\"r\":[\"xsFg75a\",\"\\/rZ3Kgg\"],\"be\":1},\"PerfXSharedFields\":{\"r\":[\"inWD2ea\",\"aEwSXz4\"],\"be\":1},\"KeyEventTypedLogger\":{\"r\":[\"bgiCPxs\",\"rCasuzG\",\"kWyeNZx\"],\"be\":1},\"Dialog\":{\"r\":[\"inWD2ea\",\"ECmA6zn\",\"ezPUKEL\",\"bgiCPxs\",\"9dWDUmY\",\"Dn8mxhm\",\"GrqIbBd\",\"dajHsgM\",\"nPkfSCL\",\"O5XYsZY\",\"rNHAT61\",\"sb2Z7d3\",\"+Fu52I4\",\"\\/rZ3Kgg\",\"KXYofHd\",\"jsByKBH\",\"KsbRs3u\",\"zGBCGbP\",\"3HdAXaS\",\"coXAcdj\",\"y1rEgOS\",\"oRJJljL\",\"4+OLCrF\"],\"rds\":{\"m\":[\"FbtLogging\",\"IntlQtEventFalcoEvent\",\"Animation\",\"PageTransitions\"]},\"be\":1},\"ExceptionDialog\":{\"r\":[\"inWD2ea\",\"ECmA6zn\",\"KsbRs3u\",\"V\\/hl7h1\",\"+U4Ilr9\",\"ezPUKEL\",\"5j7FSMt\",\"gwFjdds\",\"bgiCPxs\",\"cqPMS8T\",\"dkkIN6a\",\"e8RkJoy\",\"Dn8mxhm\",\"3HdAXaS\",\"GrqIbBd\",\"M7\\/jlCR\",\"gIz8SW0\",\"kbjNhMO\",\"2vrf0sa\",\"8Oo6OTq\",\"R7mqa9A\",\"nPkfSCL\",\"O5XYsZY\",\"coXAcdj\",\"y1rEgOS\",\"oRJJljL\",\"pc9vTg1\",\"rNHAT61\",\"+Fu52I4\",\"W5vc6gy\",\"KXYofHd\",\"7JJzRZz\",\"AiayOh0\",\"BOfcLZG\",\"4+OLCrF\",\"9dWDUmY\",\"\\/rZ3Kgg\"],\"rds\":{\"m\":[\"FbtLogging\",\"IntlQtEventFalcoEvent\"]},\"be\":1},\"QuickSandSolver\":{\"r\":[\"inWD2ea\",\"SWx3yNv\",\"bgiCPxs\",\"9dWDUmY\",\"SKLfEIC\",\"nq+Uy4t\",\"sb2Z7d3\",\"\\/rZ3Kgg\",\"x22Oby4\",\"8ELCBwH\",\"GrqIbBd\"],\"rds\":{\"m\":[\"FbtLogging\",\"IntlQtEventFalcoEvent\"]},\"be\":1},\"ConfirmationDialog\":{\"r\":[\"inWD2ea\",\"bgiCPxs\",\"nPkfSCL\",\"8HsOMdM\",\"sb2Z7d3\",\"GrqIbBd\"],\"be\":1},\"MWADeveloperReauthBarrier\":{\"r\":[\"inWD2ea\",\"QyoftxH\",\"H\\/5lfuF\",\"17Grp2h\",\"QIamfde\"],\"be\":1}}})});</script>\n",
       "<script>requireLazy([\"InitialJSLoader\"], function(InitialJSLoader) {InitialJSLoader.loadOnDOMContentReady([\"TMCnFn9\",\"9dWDUmY\",\"Dn8mxhm\",\"+Fu52I4\",\"inWD2ea\",\"nPkfSCL\",\"coXAcdj\",\"\\/AN8Bt5\",\"ezPUKEL\",\"bgiCPxs\",\"\\/rZ3Kgg\",\"dlMdW7h\",\"sb2Z7d3\",\"BFolX4R\",\"kWyeNZx\",\"P\\/mr5VE\"]);});</script>\n",
       "<script>requireLazy([\"TimeSliceImpl\",\"ServerJS\"],function(TimeSlice,ServerJS){var s=(new ServerJS());s.handle({\"define\":[[\"LinkshimHandlerConfig\",[],{\"supports_meta_referrer\":false,\"default_meta_referrer_policy\":\"default\",\"switched_meta_referrer_policy\":\"origin\",\"non_linkshim_lnfb_mode\":\"ie\",\"link_react_default_hash\":\"AT3bxo_DFyUCgDwKfLVxhVPeVddjdE1LZi__dspXh4y8VDKyUnZb8w5Gf4m5wd7mST8M-KjULVBbFLxX_togupovTI1bDdWIn1zasdZekFdf927i-rgiXKM-kVeo7VgarNjXsCjTfbyGjTljYT-OcQ4FPA\",\"untrusted_link_default_hash\":\"AT0CkqD6aIXvEp1oPhf-X86LEb8w5JCMKVepU6aSbyPLjYLgU3TuyxmFaeK1NF9EXCCq47Olhj06D8b6_mL7-FC9QA3DrYXfsi6aABzMa_wGCBnHKexdGRpeAioF8FbFIEkbho9zEd6ZmBYdyDQ6UmLknQ\",\"linkshim_host\":\"l.facebook.com\",\"linkshim_path\":\"\\/l.php\",\"linkshim_enc_param\":\"h\",\"linkshim_url_param\":\"u\",\"use_rel_no_opener\":false,\"use_rel_no_referrer\":false,\"always_use_https\":false,\"onion_always_shim\":true,\"middle_click_requires_event\":false,\"www_safe_js_mode\":\"hover\",\"m_safe_js_mode\":null,\"ghl_param_link_shim\":false,\"click_ids\":[],\"is_linkshim_supported\":true,\"current_domain\":\"facebook.com\",\"blocklisted_domains\":[\"ad.doubleclick.net\",\"ads-encryption-url-example.com\",\"bs.serving-sys.com\",\"ad.atdmt.com\",\"adform.net\",\"ad13.adfarm1.adition.com\",\"ilovemyfreedoms.com\",\"secure.adnxs.com\"],\"is_mobile_device\":false},27],[\"cr:7736\",[\"FBLynxLogging\"],{\"__rc\":[\"FBLynxLogging\",null]},-1]],\"elements\":[[\"__elem_a588f507_0_1_GC\",\"u_0_1_ub\",1],[\"__elem_a588f507_0_0_Bs\",\"globalContainer\",1],[\"__elem_a588f507_0_2_r\\/\",\"content\",1],[\"__elem_835c633a_0_0_Ab\",\"u_0_2_xh\",1],[\"__elem_9f5fac15_0_0_YM\",\"passContainer\",1],[\"__elem_558608f3_0_0_SF\",\"pass\",1],[\"__elem_a588f507_0_3_T3\",\"u_0_3_nH\",1],[\"__elem_a588f507_0_4_R4\",\"u_0_4_QS\",1],[\"__elem_45d73b5d_0_0_Bl\",\"u_0_5_pn\",1]],\"require\":[[\"ServiceWorkerLoginAndLogout\",\"login\",[],[]],[\"WebPixelRatioDetector\",\"startDetecting\",[],[true]],[\"ScriptPath\",\"set\",[],[\"XIndexReduxController\",\"a1f3c513\",{\"imp_id\":\"15bWazlC41z3qLiMM\",\"ef_page\":null,\"uri\":\"https:\\/\\/www.facebook.com\\/\"}]],[\"UITinyViewportAction\",\"init\",[],[]],[\"ResetScrollOnUnload\",\"init\",[\"__elem_a588f507_0_0_Bs\"],[{\"__m\":\"__elem_a588f507_0_0_Bs\"}]],[\"KeyboardActivityLogger\",\"init\",[],[]],[\"FocusRing\",\"init\",[],[]],[\"ErrorMessageConsole\",\"listenForUncaughtErrors\",[],[]],[\"HardwareCSS\",\"init\",[],[]],[\"LoginFormController\",\"init\",[\"__elem_835c633a_0_0_Ab\",\"__elem_45d73b5d_0_0_Bl\"],[{\"__m\":\"__elem_835c633a_0_0_Ab\"},{\"__m\":\"__elem_45d73b5d_0_0_Bl\"},null,true,{\"pubKey\":{\"publicKey\":\"0394f02f771c966f17e5b98a363cd8aa419c2f4cb55e0b45ff39489425d5b760\",\"keyId\":148}},false]],[\"BrowserPrefillLogging\",\"initContactpointFieldLogging\",[],[{\"contactpointFieldID\":\"email\",\"serverPrefill\":\"\"}]],[\"BrowserPrefillLogging\",\"initPasswordFieldLogging\",[],[{\"passwordFieldID\":\"pass\"}]],[\"FocusListener\"],[\"FlipDirectionOnKeypress\"],[\"LoginFormToggle\",\"initToggle\",[\"__elem_a588f507_0_3_T3\",\"__elem_a588f507_0_4_R4\",\"__elem_558608f3_0_0_SF\",\"__elem_9f5fac15_0_0_YM\"],[{\"__m\":\"__elem_a588f507_0_3_T3\"},{\"__m\":\"__elem_a588f507_0_4_R4\"},{\"__m\":\"__elem_558608f3_0_0_SF\"},{\"__m\":\"__elem_9f5fac15_0_0_YM\"}]],[\"IntlUtils\"],[\"FBLynx\",\"setupDelegation\",[],[]],[\"RequireDeferredReference\",\"unblock\",[],[[\"FbtLogging\",\"IntlQtEventFalcoEvent\"],\"sd\"]],[\"RequireDeferredReference\",\"unblock\",[],[[\"FbtLogging\",\"IntlQtEventFalcoEvent\"],\"css\"]],[\"TimeSliceImpl\"],[\"HasteSupportData\"],[\"ServerJS\"],[\"Run\"],[\"InitialJSLoader\"]],\"contexts\":[[{\"__m\":\"__elem_a588f507_0_1_GC\"},true],[{\"__m\":\"__elem_a588f507_0_2_r\\/\"},true]]});requireLazy([\"Run\"],function(Run){Run.onAfterLoad(function(){s.cleanup(TimeSlice)})});});</script>\n",
       "<script>now_inl=(function(){var p=window.performance;return p&&p.now&&p.timing&&p.timing.navigationStart?function(){return p.now()+p.timing.navigationStart}:function(){return new Date().getTime()};})();window.__bigPipeFR=now_inl();</script>\n",
       "<link as=\"style\" href=\"https://static.xx.fbcdn.net/rsrc.php/v3/y0/l/1,cross/Oui98GyjX45.css?_nc_x=Ij3Wp8lg5Kz\" rel=\"preload\"/>\n",
       "<link as=\"style\" href=\"https://static.xx.fbcdn.net/rsrc.php/v3/yP/l/1,cross/UiF6KvaaDMc.css?_nc_x=Ij3Wp8lg5Kz\" rel=\"preload\"/>\n",
       "<link as=\"style\" href=\"https://static.xx.fbcdn.net/rsrc.php/v3/yy/l/1,cross/piXcg3ZJdR_.css?_nc_x=Ij3Wp8lg5Kz\" rel=\"preload\"/>\n",
       "<link as=\"style\" href=\"https://static.xx.fbcdn.net/rsrc.php/v3/yC/l/1,cross/sE-LYoTFzMc.css?_nc_x=Ij3Wp8lg5Kz\" rel=\"preload\"/>\n",
       "<link as=\"script\" href=\"https://static.xx.fbcdn.net/rsrc.php/v3/ya/r/GxGC52INhg0.js?_nc_x=Ij3Wp8lg5Kz\" nonce=\"cieshB4q\" rel=\"preload\"/>\n",
       "<link as=\"script\" href=\"https://static.xx.fbcdn.net/rsrc.php/v3/ye/r/a_TNkY9RAW1.js?_nc_x=Ij3Wp8lg5Kz\" nonce=\"cieshB4q\" rel=\"preload\"/>\n",
       "<link as=\"script\" href=\"https://static.xx.fbcdn.net/rsrc.php/v3i63m4/yi/l/zh_TW/YoTddyRzZmh.js?_nc_x=Ij3Wp8lg5Kz\" nonce=\"cieshB4q\" rel=\"preload\"/>\n",
       "<link as=\"script\" href=\"https://static.xx.fbcdn.net/rsrc.php/v3/yB/r/YoDsyacZv-f.js?_nc_x=Ij3Wp8lg5Kz\" nonce=\"cieshB4q\" rel=\"preload\"/>\n",
       "<script>window.__bigPipeCtor=now_inl();requireLazy([\"BigPipe\"],function(BigPipe){define(\"__bigPipe\",[],window.bigPipe=new BigPipe({\"forceFinish\":true,\"config\":{\"flush_pagelets_asap\":true,\"dispatch_pagelet_replayable_actions\":false}}));});</script>\n",
       "<script nonce=\"cieshB4q\">(function(){var n=now_inl();requireLazy([\"__bigPipe\"],function(bigPipe){bigPipe.beforePageletArrive(\"first_response\",n);})})();</script>\n",
       "<script nonce=\"cieshB4q\">requireLazy([\"__bigPipe\"],(function(bigPipe){bigPipe.onPageletArrive({displayResources:[\"5ai6w4/\",\"ECmA6zn\",\"GrqIbBd\",\"+U4Ilr9\",\"bgiCPxs\",\"P/mr5VE\",\"inWD2ea\",\"9dWDUmY\",\"/rZ3Kgg\"],id:\"first_response\",phase:0,last_in_phase:true,tti_phase:0,all_phases:[63],hsrp:{hblp:{consistency:{rev:1010343418}}},allResources:[\"TMCnFn9\",\"9dWDUmY\",\"Dn8mxhm\",\"+Fu52I4\",\"inWD2ea\",\"nPkfSCL\",\"coXAcdj\",\"/AN8Bt5\",\"ezPUKEL\",\"bgiCPxs\",\"/rZ3Kgg\",\"5ai6w4/\",\"ECmA6zn\",\"GrqIbBd\",\"+U4Ilr9\",\"dlMdW7h\",\"sb2Z7d3\",\"BFolX4R\",\"P/mr5VE\",\"kWyeNZx\"]});}));</script>\n",
       "<script>requireLazy([\"__bigPipe\"],function(bigPipe){bigPipe.setPageID(\"7311495615740928549\")});</script><script nonce=\"cieshB4q\">(function(){var n=now_inl();requireLazy([\"__bigPipe\"],function(bigPipe){bigPipe.beforePageletArrive(\"last_response\",n);})})();</script>\n",
       "<script nonce=\"cieshB4q\">requireLazy([\"__bigPipe\"],(function(bigPipe){bigPipe.onPageletArrive({displayResources:[\"bgiCPxs\"],id:\"last_response\",phase:63,last_in_phase:true,the_end:true,jsmods:{define:[[\"TimeSliceInteractionSV\",[],{on_demand_reference_counting:true,on_demand_profiling_counters:true,default_rate:1000,lite_default_rate:100,interaction_to_lite_coinflip:{ADS_INTERFACES_INTERACTION:0,ads_perf_scenario:0,ads_wait_time:0,Event:1},interaction_to_coinflip:{ADS_INTERFACES_INTERACTION:1,ads_perf_scenario:1,ads_wait_time:1,Event:100},enable_heartbeat:true,maxBlockMergeDuration:0,maxBlockMergeDistance:0,enable_banzai_stream:true,user_timing_coinflip:50,banzai_stream_coinflip:0,compression_enabled:true,ref_counting_fix:false,ref_counting_cont_fix:false,also_record_new_timeslice_format:false,force_async_request_tracing_on:false},2609],[\"BDSignalCollectionData\",[],{sc:\"{\\\"t\\\":1659080345,\\\"c\\\":[[30000,838801],[30001,838801],[30002,838801],[30003,838801],[30004,838801],[30005,838801],[30006,573585],[30007,838801],[30008,838801],[30012,838801],[30013,838801],[30015,806033],[30018,806033],[30021,540823],[30022,540817],[30040,806033],[30093,806033],[30094,806033],[30095,806033],[30101,541591],[30102,541591],[30103,541591],[30104,541591],[30106,806039],[30107,806039],[38000,541427],[38001,806643]]}\",fds:60,fda:60,i:60,sbs:1,dbs:100,bbs:100,hbi:60,rt:262144,hbcbc:2,hbvbc:0,hbbi:30,sid:-1,hbv:\"7845631423104565295\"},5239],[\"cr:7383\",[\"BanzaiWWW\"],{__rc:[\"BanzaiWWW\",null]},-1],[\"cr:1458113\",[],{__rc:[null,null]},-1],[\"cr:1069930\",[],{__rc:[null,null]},-1],[\"cr:1083116\",[\"XAsyncRequest\"],{__rc:[\"XAsyncRequest\",null]},-1],[\"cr:1083117\",[],{__rc:[null,null]},-1],[\"cr:1642797\",[\"BanzaiBase\"],{__rc:[\"BanzaiBase\",null]},-1],[\"BanzaiConfig\",[],{MAX_SIZE:10000,MAX_WAIT:150000,MIN_WAIT:null,RESTORE_WAIT:150000,blacklist:[\"time_spent\"],disabled:false,gks:{boosted_pagelikes:true,mercury_send_error_logging:true,platform_oauth_client_events:true,sticker_search_ranking:true},known_routes:[\"artillery_javascript_actions\",\"artillery_javascript_trace\",\"artillery_logger_data\",\"logger\",\"falco\",\"gk2_exposure\",\"js_error_logging\",\"loom_trace\",\"marauder\",\"perfx_custom_logger_endpoint\",\"qex\",\"require_cond_exposure_logging\",\"metaconfig_exposure\"],should_drop_unknown_routes:true,should_log_unknown_routes:false},7],[\"cr:7384\",[\"cancelIdleCallbackWWW\"],{__rc:[\"cancelIdleCallbackWWW\",null]},-1],[\"cr:692209\",[\"cancelIdleCallbackBlue\"],{__rc:[\"cancelIdleCallbackBlue\",null]},-1],[\"WebDevicePerfInfoData\",[],{needsFullUpdate:true,needsPartialUpdate:false,shouldLogResourcePerf:false},3977],[\"WebStorageMonsterLoggingURI\",[],{uri:\"/ajax/webstorage/process_keys/?state=1\"},3032],[\"BrowserPaymentHandlerConfig\",[],{enabled:false},3904],[\"TimeSpentConfig\",[],{delay:1000,timeout:64,\"0_delay\":0,\"0_timeout\":8},142],[\"cr:6943\",[\"EventListenerImplForCacheStorage\"],{__rc:[\"EventListenerImplForCacheStorage\",null]},-1],[\"cr:1634616\",[\"UserActivityBlue\"],{__rc:[\"UserActivityBlue\",null]},-1],[\"cr:1353359\",[\"EventListenerImplForBlue\"],{__rc:[\"EventListenerImplForBlue\",null]},-1],[\"cr:844180\",[\"TimeSpentImmediateActiveSecondsLoggerBlue\"],{__rc:[\"TimeSpentImmediateActiveSecondsLoggerBlue\",null]},-1],[\"cr:1187159\",[\"BlueCompatBroker\"],{__rc:[\"BlueCompatBroker\",null]},-1],[\"cr:5800\",[],{__rc:[null,null]},-1],[\"ImmediateActiveSecondsConfig\",[],{sampling_rate:0},423]],require:[[\"BDClientSignalCollectionTrigger\",\"startSignalCollection\",[],[{sc:\"{\\\"t\\\":1659080345,\\\"c\\\":[[30000,838801],[30001,838801],[30002,838801],[30003,838801],[30004,838801],[30005,838801],[30006,573585],[30007,838801],[30008,838801],[30012,838801],[30013,838801],[30015,806033],[30018,806033],[30021,540823],[30022,540817],[30040,806033],[30093,806033],[30094,806033],[30095,806033],[30101,541591],[30102,541591],[30103,541591],[30104,541591],[30106,806039],[30107,806039],[38000,541427],[38001,806643]]}\",fds:60,fda:60,i:60,sbs:1,dbs:100,bbs:100,hbi:60,rt:262144,hbcbc:2,hbvbc:0,hbbi:30,sid:-1,hbv:\"7845631423104565295\"}]],[\"NavigationMetrics\",\"setPage\",[],[{page:\"XIndexReduxController\",page_type:\"normal\",page_uri:\"https://www.facebook.com/\",serverLID:\"7311495615740928549\"}]],[\"FalcoLoggerTransports\",\"attach\",[],[]],[\"Chromedome\",\"start\",[],[{}]],[\"DimensionTracking\"],[\"ClickRefLogger\"],[\"NavigationClickPointHandler\"],[\"WebDevicePerfInfoLogging\",\"doLog\",[],[]],[\"WebStorageMonster\",\"schedule\",[],[]],[\"Artillery\",\"disable\",[],[]],[\"ScriptPathLogger\",\"startLogging\",[],[]],[\"TimeSpentBitArrayLogger\",\"init\",[],[]],[\"CookieCore\",\"setWithoutChecksIfFirstPartyContext\",[],[\"_js_datr\",\"hqZ3ZXpK7U4mA1RVtZlvZL1l\",34560000000,\"/\",true,\".facebook.com\"]],[\"TransportSelectingClientSingletonConditional\"],[\"RequireDeferredReference\",\"unblock\",[],[[\"TransportSelectingClientSingletonConditional\"],\"sd\"]],[\"RequireDeferredReference\",\"unblock\",[],[[\"TransportSelectingClientSingletonConditional\"],\"css\"]]]},hsrp:{hsdp:{clpData:{\"1871697\":{r:1,s:1},\"1829319\":{r:1},\"1829320\":{r:1},\"1843988\":{r:1}},gkxData:{\"1099893\":{result:false,hash:null}},qexData:{\"526\":{r:null},\"538\":{r:null},\"543\":{r:null}}},hblp:{consistency:{rev:1010343418},rsrcMap:{oo6oo8h:{type:\"js\",src:\"https://static.xx.fbcdn.net/rsrc.php/v3iCAO4/ye/l/zh_TW/euLeui0FtEX.js?_nc_x=Ij3Wp8lg5Kz\",nc:1}}}},allResources:[\"bgiCPxs\",\"dlMdW7h\",\"BFolX4R\",\"inWD2ea\",\"oo6oo8h\",\"rNHAT61\",\"GpQFBwL\",\"9dWDUmY\",\"M7/jlCR\",\"I8asZxF\",\"DmO8i6D\",\"/rZ3Kgg\",\"W5vc6gy\",\"gwFjdds\",\"7X/R76+\",\"y1rEgOS\"]});}));</script></body></html>"
      ]
     },
     "execution_count": 2,
     "metadata": {},
     "output_type": "execute_result"
    }
   ],
   "source": [
    "from tools import get_soup\n",
    "fb='https://www.facebook.com/'\n",
    "fbsoup=get_soup(fb)\n",
    "fbsoup"
   ]
  },
  {
   "cell_type": "code",
   "execution_count": 3,
   "id": "46f49cca",
   "metadata": {
    "tags": []
   },
   "outputs": [],
   "source": [
    "import requests\n",
    "from bs4 import BeautifulSoup\n",
    "import pandas as pd\n",
    "import os\n",
    "from selenium import webdriver\n",
    "from selenium.webdriver.chrome.service import Service\n",
    "from selenium.webdriver.common.by import By\n",
    "import time\n",
    "\n",
    "path = r'/Users/hongcaixia/Desktop/chromedriver-mac-arm64 2/chromedriver'\n",
    "service=Service(executable_path=path)\n",
    "\n",
    "chrome = webdriver.Chrome(service = service)\n",
    "chrome.get(\"https://mbasic.facebook.com\")\n",
    "time.sleep(5)\n",
    "\n",
    "def make_dirs(path):\n",
    "    try:\n",
    "        if not os.path.exists(path):\n",
    "            os.makedirs(path)\n",
    "            print(f'{path}建立成功.')\n",
    "        else:\n",
    "            print(f'{path}已存在.')\n",
    "    except Exception as e:\n",
    "        print('建立floder失敗.', e)\n",
    "\n",
    "def get_soup(url, post_data=None):\n",
    "    try:\n",
    "        if post_data is not None:\n",
    "            resp = requests.post(url, post_data, headers={\n",
    "                'User-Agent': 'Mozilla/5.0 (Macintosh; Intel Mac OS X 11_2_3) AppleWebKit/605.1.15 (KHTML, like Gecko) Version/12.2'})\n",
    "        else:\n",
    "            resp = requests.get(url, headers={\n",
    "                'User-Agent': 'Mozilla/5.0 (Macintosh; Intel Mac OS X 11_2_3) AppleWebKit/605.1.15 (KHTML, like Gecko) Version/12.2'})\n",
    "        resp.encoding = 'utf-8'\n",
    "        if resp.status_code == 200:\n",
    "            soup = BeautifulSoup(resp.text, 'lxml')\n",
    "            return soup\n",
    "        else:\n",
    "            print('網頁取得失敗', resp.status_code)\n",
    "    except Exception as e:\n",
    "        print('網址錯誤', e)"
   ]
  },
  {
   "cell_type": "code",
   "execution_count": 4,
   "id": "7928b242",
   "metadata": {
    "tags": []
   },
   "outputs": [
    {
     "data": {
      "text/plain": [
       "'<html lang=\"zh-Hant\" xmlns=\"http://www.w3.org/1999/xhtml\"><head><title>Facebook - 登入或註冊</title><meta name=\"referrer\" content=\"origin-when-crossorigin\" id=\"meta_referrer\"><style type=\"text/css\" nonce=\"\">/*<![CDATA[*/.r{margin-bottom:36px;}.o{padding:8px;}.j{padding-bottom:4px;padding-top:4px;}.bz{padding-bottom:12px;padding-top:12px;}.by{padding-left:4px;padding-right:4px;}.bq{padding-left:8px;padding-right:8px;}.bv{padding-top:12px;}.b .bs{display:block;width:auto;}.b .bs .bt,.b .bs .bt:hover{background-color:#42b72a;color:#fff;height:44px;}.b .bn{display:block;margin-bottom:5px;margin-left:3%;margin-top:-3px;overflow:hidden;text-align:center;white-space:nowrap;width:94%;}.b .bn>span{display:inline-block;position:relative;}.b .bn>span:before,.b .bn>span:after{background:#ccd0d5;content:\\'\\';height:1px;position:absolute;top:50%;width:9999px;}.b .bn>span:before{margin-right:15px;right:100%;}.b .bn>span:after{left:100%;margin-left:15px;}.b .bo{color:#4b4f56;font-size:14px;}.b .be{border:solid 1px #999;box-sizing:border-box;width:100%;}.b .l{border:0;border-collapse:collapse;margin:0;padding:0;width:100%;}.b .l tbody{vertical-align:top;}.b .l td{padding:0;}.b .l td.y{padding:4px;}.b .m{width:100%;}.n{background:#fa3e3e;}.p{color:#fff;}.b .p a,.b .p a:visited{color:#fff;font-weight:bold;}.b .p a:focus,.b .p a:hover{background:#1d2129;}.cb{color:#4b4f56;}.q{font-size:12px;line-height:16px;}.ca{font-size:16px;line-height:20px;}.bi{font-weight:normal;}.ba{font-weight:bold;}.bp{text-align:center;}form{margin:0;border:0;}.x{margin:0;}.x li{display:block;list-style:none;}.b .cc{padding:0;}.b .y{padding:4px;}.b .bb{color:#8d949e;display:block;font-weight:bold;}.b .bd{padding:12px 8px;color:#1c1e21;}.bc{border:0;display:block;margin:0;padding:0;}.bf{box-sizing:border-box;width:100%;}.b .bg{border:solid 1px #999;}.bj{-webkit-appearance:none;background:none;display:inline-block;font-size:12px;height:28px;line-height:28px;margin:0;overflow:visible;padding:0 9px;text-align:center;vertical-align:top;white-space:nowrap;}.b .bj{border-radius:2px;}.bu,a.bu,.b a.bu,.b a.bu:visited{background-color:#f5f6f7;color:#4b4f56;}.b a.bu:hover,.b .bu:hover{background-color:#ebedf0;color:#4b4f56;}.b .bu{border:1px solid #bec3c9;}.bu[disabled]{color:#bec3c9;}.b .bu[disabled]:hover{background-color:#f5f6f7;color:#bec3c9;}.bm,a.bm,html .b a.bm{color:#fff;}.b .bm{background-color:#4267b2;border:1px solid #365899;}.b a.bm:hover,.b .bm:hover{background-color:#465e91;}.bm[disabled]{color:#899bc1;}.b .bm[disabled]:hover{background-color:#4267b2;}.bl{font-size:14px;height:44px;line-height:44px;padding:0 20px;}.b a.bj::after{content:\\'\\';display:inline-block;height:100%;vertical-align:middle;}.bj.bk{display:block;width:100%;}a.bj.bk,.b label.bj.bk{display:block;width:auto;}.b .bj{padding:0 8px;}.b a.bj{height:26px;line-height:26px;}.b .bl{padding:0 19px;}.b a.bl{font-size:14px;height:42px;line-height:42px;}.b a,.b a:visited{color:#3b5998;text-decoration:none;}.b a:focus,.b a:hover{background-color:#3b5998;color:#fff;}body{text-align:left;direction:ltr;}body,tr,input,textarea,button{font-family:sans-serif;}body,p,figure,h1,h2,h3,h4,h5,h6,ul,ol,li,dl,dd,dt{margin:0;padding:0;}h1,h2,h3,h4,h5,h6{font-size:1em;font-weight:bold;}ul,ol{list-style:none;}article,aside,figcaption,figure,footer,header,nav,section{display:block;}.d #viewport{margin:0 auto;max-width:600px;}.f{background-color:#fff;}.h{background-color:#3b5998;}.s{background-color:#eceff5;}#page{position:relative;}.i{padding:2px 3px;}.k{border:0;display:inline-block;vertical-align:top;}i.k u{position:absolute;width:0;height:0;overflow:hidden;}body,tr,input,textarea,.g{font-size:medium;}/*]]>*/</style><meta http-equiv=\"origin-trial\" content=\"AvpndGzuAwLY463N1HvHrsK3WE5yU5g6Fehz7Vl7bomqhPI/nYGOjVg3TI0jq5tQ5dP3kDSd1HXVtKMQyZPRxAAAAABleyJvcmlnaW4iOiJodHRwczovL2ZhY2Vib29rLmNvbTo0NDMiLCJmZWF0dXJlIjoiSW5zdGFsbGVkQXBwIiwiZXhwaXJ5IjoxNTEyNDI3NDA0LCJpc1N1YmRvbWFpbiI6dHJ1ZX0=\"><meta name=\"description\" content=\"建立帳號或登入 Facebook。與認識的朋友、家人和其他人聯繫。分享相片和影片、傳送訊息並掌握最新消息。\"><link rel=\"canonical\" href=\"https://www.facebook.com/\"><meta property=\"og:site_name\" content=\"Facebook\"><meta property=\"og:type\" content=\"website\"><meta property=\"og:title\" content=\"Facebook - 登入或註冊\"><meta property=\"og:description\" content=\"建立帳號或登入 Facebook。與認識的朋友、家人和其他人聯繫。分享相片和影片、傳送訊息並掌握最新消息。\"><meta property=\"og:image\" content=\"https://www.facebook.com/images/fb_icon_325x325.png\"><meta property=\"og:url\" content=\"https://www.facebook.com/\"><link rel=\"alternate\" media=\"only screen and (max-width: 640px)\" href=\"https://m.facebook.com/\"><link rel=\"alternate\" media=\"handheld\" href=\"https://m.facebook.com/\"><link rel=\"manifest\" id=\"MANIFEST_LINK\" href=\"/data/manifest/\" crossorigin=\"use-credentials\"></head><body tabindex=\"0\" class=\"b c d e f\"><div class=\"g\"><div id=\"viewport\"><div class=\"h i\" id=\"header\"><h1 style=\"display:block;height:0;overflow:hidden;position:absolute;width:0;padding:0\">Facebook</h1><img src=\"https://static.xx.fbcdn.net/rsrc.php/v3/y8/r/k97pj8-or6s.png\" width=\"77\" height=\"16\" class=\"j k\" alt=\"facebook\"></div><div id=\"objects_container\"><div class=\"f\" id=\"root\" role=\"main\"><table class=\"l\" role=\"presentation\"><tbody><tr><td class=\"m\"><div class=\"n o p\" style=\"display: none;\" id=\"login_error\"><div class=\"q\"></div></div><div class=\"r\"><div class=\"s t\"><div id=\"login_top_banner\"></div><div class=\"u\"><form method=\"post\" action=\"/login/device-based/regular/login/?refsrc=deprecated&amp;lwv=100&amp;refid=8\" class=\"v w\" id=\"login_form\" novalidate=\"1\"><input type=\"hidden\" name=\"lsd\" value=\"AVqh8Txf3Ms\" autocomplete=\"off\"><input type=\"hidden\" name=\"jazoest\" value=\"2973\" autocomplete=\"off\"><input type=\"hidden\" name=\"m_ts\" value=\"1702340240\"><input type=\"hidden\" name=\"li\" value=\"kKZ3ZRwJidn3vVikI6U9rVUJ\"><input type=\"hidden\" name=\"try_number\" value=\"0\"><input type=\"hidden\" name=\"unrecognized_tries\" value=\"0\"><ul class=\"x y z\"><li class=\"y\"><span class=\"ba bb\" id=\"u_0_0_x4\">手機號碼或電子郵件地址</span><input autocorrect=\"off\" autocapitalize=\"off\" class=\"bc bd be\" autocomplete=\"on\" id=\"m_login_email\" name=\"email\" aria-labelledby=\"u_0_0_x4\" type=\"text\"></li><li class=\"y\"><section id=\"password_input_with_placeholder\"><span class=\"ba bb\" id=\"u_0_1_2K\">密碼</span><input autocorrect=\"off\" autocapitalize=\"off\" class=\"bc bd bf bg\" autocomplete=\"on\" name=\"pass\" aria-labelledby=\"u_0_1_2K\" type=\"password\"></section></li><li class=\"y\"><input value=\"登入\" type=\"submit\" name=\"login\" class=\"bh bi bj bk bl bm\"></li></ul><div><div id=\"login_reg_separator\" class=\"bn\"><span class=\"bo\">或</span></div><div class=\"bp bq\" id=\"signup_button_area\"><div class=\"bp br bs\" id=\"signup-button\" tabindex=\"0\"><input value=\"建立新帳號\" type=\"submit\" name=\"sign_up\" class=\"bh bi bj bt bl bu\"></div></div></div><input type=\"hidden\" id=\"bi_xrwh\" name=\"bi_xrwh\" value=\"0\"><input type=\"hidden\" id=\"scetoggle\"><div></div><noscript><input type=\"hidden\" name=\"_fb_noscript\" value=\"true\" /></noscript></form><div><div class=\"bv bw\"><div class=\"bp bx\"><a class=\"bx\" tabindex=\"0\" href=\"/recover/initiate/?privacy_mutation_token=eyJ0eXBlIjowLCJjcmVhdGlvbl90aW1lIjoxNzAyMzQwMjQwLCJjYWxsc2l0ZV9pZCI6Mjg0Nzg1MTQ5MzQ1MzY5fQ%3D%3D&amp;c=https%3A%2F%2Fmbasic.facebook.com%2F&amp;r&amp;cuid&amp;ars=facebook_login&amp;lwv=100&amp;refid=8\" id=\"forgot-password-link\">忘記密碼？</a></div></div><div style=\"padding-top: 42px\"><div><div></div><div class=\"bv\" style=\"text-align:center;\"><div class=\"by bz\"><span class=\"ca cb\"><ul class=\"x cc\"><li class=\"y bp\"></li><li class=\"y\"></li></ul></span></div></div></div></div></div></div></div></div></td></tr></tbody></table><div style=\"display:none\"><div></div></div><span><img src=\"https://facebook.com/security/hsts-pixel.gif\" width=\"0\" height=\"0\" style=\"display:none\"></span></div></div><div></div></div></div></body></html>'"
      ]
     },
     "execution_count": 4,
     "metadata": {},
     "output_type": "execute_result"
    }
   ],
   "source": [
    "chrome.page_source"
   ]
  },
  {
   "cell_type": "code",
   "execution_count": 5,
   "id": "ba5b09c6",
   "metadata": {
    "tags": []
   },
   "outputs": [],
   "source": [
    "input_xpath = \"/html/body/div/div/div[2]/div/table/tbody/tr/td/div[2]/div/div[2]/form/ul/li[1]/input\""
   ]
  },
  {
   "cell_type": "code",
   "execution_count": 6,
   "id": "a8e220f8",
   "metadata": {
    "tags": []
   },
   "outputs": [
    {
     "data": {
      "text/plain": [
       "<selenium.webdriver.remote.webelement.WebElement (session=\"7c285361b3fe4ee3fcac8f70c0cd20a2\", element=\"A431DD1E6698A8FF29BC040216FDEE39_element_5\")>"
      ]
     },
     "execution_count": 6,
     "metadata": {},
     "output_type": "execute_result"
    }
   ],
   "source": [
    "element_1 = chrome.find_element(By.XPATH, input_xpath)\n",
    "element_1"
   ]
  },
  {
   "cell_type": "code",
   "execution_count": null,
   "id": "46868f91",
   "metadata": {
    "tags": []
   },
   "outputs": [],
   "source": [
    "element_1.send_keys(input(\"請輸入帳號\"))"
   ]
  },
  {
   "cell_type": "code",
   "execution_count": 43,
   "id": "e95d5cba",
   "metadata": {},
   "outputs": [],
   "source": [
    "pw_xpath = \"/html/body/div/div/div[2]/div/table/tbody/tr/td/div[2]/div/div[2]/form/ul/li[2]/section/input\""
   ]
  },
  {
   "cell_type": "code",
   "execution_count": 44,
   "id": "45d8f0dd",
   "metadata": {
    "scrolled": true
   },
   "outputs": [
    {
     "data": {
      "text/plain": [
       "<selenium.webdriver.remote.webelement.WebElement (session=\"780566bcba4b576aa271340e769b2008\", element=\"5393782B486FBC2E1D63A8BA7DAC6BF3_element_3\")>"
      ]
     },
     "execution_count": 44,
     "metadata": {},
     "output_type": "execute_result"
    }
   ],
   "source": [
    "element_2 = chrome.find_element(By.XPATH, pw_xpath)\n",
    "element_2"
   ]
  },
  {
   "cell_type": "code",
   "execution_count": 45,
   "id": "68fd6816",
   "metadata": {},
   "outputs": [
    {
     "name": "stdout",
     "output_type": "stream",
     "text": [
      "請輸入密碼kanon-520\n"
     ]
    }
   ],
   "source": [
    "element_2.send_keys(input(\"請輸入密碼\"))"
   ]
  },
  {
   "cell_type": "code",
   "execution_count": 46,
   "id": "c24ff612",
   "metadata": {},
   "outputs": [],
   "source": [
    "enter_xpath = \"/html/body/div/div/div[2]/div/table/tbody/tr/td/div[2]/div/div[2]/form/ul/li[3]/input\""
   ]
  },
  {
   "cell_type": "code",
   "execution_count": 47,
   "id": "ea5fc32d",
   "metadata": {},
   "outputs": [
    {
     "data": {
      "text/plain": [
       "<selenium.webdriver.remote.webelement.WebElement (session=\"780566bcba4b576aa271340e769b2008\", element=\"5393782B486FBC2E1D63A8BA7DAC6BF3_element_25\")>"
      ]
     },
     "execution_count": 47,
     "metadata": {},
     "output_type": "execute_result"
    }
   ],
   "source": [
    "element_3 = chrome.find_element(By.XPATH, enter_xpath)\n",
    "element_3"
   ]
  },
  {
   "cell_type": "code",
   "execution_count": 48,
   "id": "6e33e311",
   "metadata": {},
   "outputs": [],
   "source": [
    "element_3.click()"
   ]
  },
  {
   "cell_type": "code",
   "execution_count": 49,
   "id": "c29c8a0f",
   "metadata": {},
   "outputs": [],
   "source": [
    "search_xpath = \"/html/body/div/div/div[1]/div/form/table/tbody/tr/td[2]/input\""
   ]
  },
  {
   "cell_type": "code",
   "execution_count": 50,
   "id": "f89d8ca4",
   "metadata": {},
   "outputs": [
    {
     "data": {
      "text/plain": [
       "<selenium.webdriver.remote.webelement.WebElement (session=\"780566bcba4b576aa271340e769b2008\", element=\"D8C2B5B0040C3E410CA63921A2B7188D_element_123\")>"
      ]
     },
     "execution_count": 50,
     "metadata": {},
     "output_type": "execute_result"
    }
   ],
   "source": [
    "element_4 = chrome.find_element(By.XPATH, search_xpath)\n",
    "element_4"
   ]
  },
  {
   "cell_type": "code",
   "execution_count": 51,
   "id": "af40eaae",
   "metadata": {},
   "outputs": [],
   "source": [
    "element_4.send_keys('山道猴子')"
   ]
  },
  {
   "cell_type": "code",
   "execution_count": 52,
   "id": "c5fe826d",
   "metadata": {},
   "outputs": [],
   "source": [
    "enter_1_xpath = \"/html/body/div/div/div[1]/div/form/table/tbody/tr/td[3]/input\""
   ]
  },
  {
   "cell_type": "code",
   "execution_count": 53,
   "id": "02cf35f8",
   "metadata": {},
   "outputs": [
    {
     "data": {
      "text/plain": [
       "<selenium.webdriver.remote.webelement.WebElement (session=\"780566bcba4b576aa271340e769b2008\", element=\"D8C2B5B0040C3E410CA63921A2B7188D_element_126\")>"
      ]
     },
     "execution_count": 53,
     "metadata": {},
     "output_type": "execute_result"
    }
   ],
   "source": [
    "element_5 = chrome.find_element(By.XPATH, enter_1_xpath)\n",
    "element_5"
   ]
  },
  {
   "cell_type": "code",
   "execution_count": 54,
   "id": "07ade50d",
   "metadata": {},
   "outputs": [],
   "source": [
    "element_5.click()"
   ]
  },
  {
   "cell_type": "code",
   "execution_count": 55,
   "id": "3afe4aff",
   "metadata": {},
   "outputs": [],
   "source": [
    "mm = chrome.page_source"
   ]
  },
  {
   "cell_type": "code",
   "execution_count": 56,
   "id": "87527bc4",
   "metadata": {},
   "outputs": [],
   "source": [
    "url = mm\n",
    "soup = BeautifulSoup(url,'lxml')"
   ]
  },
  {
   "cell_type": "code",
   "execution_count": 57,
   "id": "ff9fcedb",
   "metadata": {},
   "outputs": [],
   "source": [
    "post = soup.find_all(\"div\",class_=\"de\")"
   ]
  },
  {
   "cell_type": "code",
   "execution_count": 58,
   "id": "b96476eb",
   "metadata": {},
   "outputs": [
    {
     "ename": "AttributeError",
     "evalue": "'NoneType' object has no attribute 'text'",
     "output_type": "error",
     "traceback": [
      "\u001b[0;31m---------------------------------------------------------------------------\u001b[0m",
      "\u001b[0;31mAttributeError\u001b[0m                            Traceback (most recent call last)",
      "Cell \u001b[0;32mIn[58], line 1\u001b[0m\n\u001b[0;32m----> 1\u001b[0m post[\u001b[38;5;241m0\u001b[39m]\u001b[38;5;241m.\u001b[39mfind(\u001b[38;5;124m\"\u001b[39m\u001b[38;5;124mspan\u001b[39m\u001b[38;5;124m\"\u001b[39m)\u001b[38;5;241m.\u001b[39mtext\n",
      "\u001b[0;31mAttributeError\u001b[0m: 'NoneType' object has no attribute 'text'"
     ]
    }
   ],
   "source": [
    "post[0].find(\"span\").text"
   ]
  },
  {
   "cell_type": "code",
   "execution_count": 34,
   "id": "16bee159",
   "metadata": {},
   "outputs": [],
   "source": [
    "datas = []\n",
    "\n",
    "for mm in post:\n",
    "    try:\n",
    "        post_text=mm.find(\"span\").text\n",
    "        datas.append([post_text])\n",
    "    except Exception as e:\n",
    "        print(e)"
   ]
  },
  {
   "cell_type": "code",
   "execution_count": 35,
   "id": "e86d636a",
   "metadata": {},
   "outputs": [
    {
     "data": {
      "text/plain": [
       "[[\"陳源宏 > \\u200e🙈🙉🙊《刪到猴子的一生what's wrong with ART?》🙈🙉🙊\"],\n",
       " ['這個世代'],\n",
       " ['空罐王'],\n",
       " ['楊千瑩 > \\u200e川崎全車系ZX10R ZX6R NINJA400 新、古改裝品、車輛買賣自由版'],\n",
       " ['Power in Nursing 護理的力量'],\n",
       " ['大燈正常能量釋放'],\n",
       " ['馬世芳'],\n",
       " ['這個世代'],\n",
       " ['台積電青年學生文學獎'],\n",
       " ['Lien-ze Tsao > \\u200eAE/MG交流 (AfterEffects / MotionGraphics)']]"
      ]
     },
     "execution_count": 35,
     "metadata": {},
     "output_type": "execute_result"
    }
   ],
   "source": [
    "datas"
   ]
  },
  {
   "cell_type": "code",
   "execution_count": 36,
   "id": "9484c102",
   "metadata": {},
   "outputs": [
    {
     "data": {
      "text/html": [
       "<div>\n",
       "<style scoped>\n",
       "    .dataframe tbody tr th:only-of-type {\n",
       "        vertical-align: middle;\n",
       "    }\n",
       "\n",
       "    .dataframe tbody tr th {\n",
       "        vertical-align: top;\n",
       "    }\n",
       "\n",
       "    .dataframe thead th {\n",
       "        text-align: right;\n",
       "    }\n",
       "</style>\n",
       "<table border=\"1\" class=\"dataframe\">\n",
       "  <thead>\n",
       "    <tr style=\"text-align: right;\">\n",
       "      <th></th>\n",
       "      <th>0</th>\n",
       "    </tr>\n",
       "  </thead>\n",
       "  <tbody>\n",
       "    <tr>\n",
       "      <th>0</th>\n",
       "      <td>陳源宏 &gt; ‎🙈🙉🙊《刪到猴子的一生what's wrong with ART?》🙈🙉🙊</td>\n",
       "    </tr>\n",
       "    <tr>\n",
       "      <th>1</th>\n",
       "      <td>這個世代</td>\n",
       "    </tr>\n",
       "    <tr>\n",
       "      <th>2</th>\n",
       "      <td>空罐王</td>\n",
       "    </tr>\n",
       "    <tr>\n",
       "      <th>3</th>\n",
       "      <td>楊千瑩 &gt; ‎川崎全車系ZX10R ZX6R NINJA400 新、古改裝品、車輛買賣自由版</td>\n",
       "    </tr>\n",
       "    <tr>\n",
       "      <th>4</th>\n",
       "      <td>Power in Nursing 護理的力量</td>\n",
       "    </tr>\n",
       "    <tr>\n",
       "      <th>5</th>\n",
       "      <td>大燈正常能量釋放</td>\n",
       "    </tr>\n",
       "    <tr>\n",
       "      <th>6</th>\n",
       "      <td>馬世芳</td>\n",
       "    </tr>\n",
       "    <tr>\n",
       "      <th>7</th>\n",
       "      <td>這個世代</td>\n",
       "    </tr>\n",
       "    <tr>\n",
       "      <th>8</th>\n",
       "      <td>台積電青年學生文學獎</td>\n",
       "    </tr>\n",
       "    <tr>\n",
       "      <th>9</th>\n",
       "      <td>Lien-ze Tsao &gt; ‎AE/MG交流 (AfterEffects / Motion...</td>\n",
       "    </tr>\n",
       "  </tbody>\n",
       "</table>\n",
       "</div>"
      ],
      "text/plain": [
       "                                                   0\n",
       "0       陳源宏 > ‎🙈🙉🙊《刪到猴子的一生what's wrong with ART?》🙈🙉🙊\n",
       "1                                               這個世代\n",
       "2                                                空罐王\n",
       "3     楊千瑩 > ‎川崎全車系ZX10R ZX6R NINJA400 新、古改裝品、車輛買賣自由版\n",
       "4                             Power in Nursing 護理的力量\n",
       "5                                           大燈正常能量釋放\n",
       "6                                                馬世芳\n",
       "7                                               這個世代\n",
       "8                                         台積電青年學生文學獎\n",
       "9  Lien-ze Tsao > ‎AE/MG交流 (AfterEffects / Motion..."
      ]
     },
     "execution_count": 36,
     "metadata": {},
     "output_type": "execute_result"
    }
   ],
   "source": [
    "pf = pd.DataFrame(datas)\n",
    "pf"
   ]
  },
  {
   "cell_type": "code",
   "execution_count": null,
   "id": "2bc35a3b",
   "metadata": {},
   "outputs": [],
   "source": []
  }
 ],
 "metadata": {
  "kernelspec": {
   "display_name": "Python 3 (ipykernel)",
   "language": "python",
   "name": "python3"
  },
  "language_info": {
   "codemirror_mode": {
    "name": "ipython",
    "version": 3
   },
   "file_extension": ".py",
   "mimetype": "text/x-python",
   "name": "python",
   "nbconvert_exporter": "python",
   "pygments_lexer": "ipython3",
   "version": "3.11.4"
  }
 },
 "nbformat": 4,
 "nbformat_minor": 5
}
